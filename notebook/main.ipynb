{
 "cells": [
  {
   "cell_type": "code",
   "execution_count": 85,
   "id": "46dad407",
   "metadata": {},
   "outputs": [],
   "source": [
    "import pandas as pd\n",
    "import numpy as np\n",
    "import matplotlib.pyplot as plt\n",
    "import seaborn as sns"
   ]
  },
  {
   "cell_type": "code",
   "execution_count": 86,
   "id": "8b89dc5f",
   "metadata": {},
   "outputs": [
    {
     "data": {
      "text/html": [
       "<div>\n",
       "<style scoped>\n",
       "    .dataframe tbody tr th:only-of-type {\n",
       "        vertical-align: middle;\n",
       "    }\n",
       "\n",
       "    .dataframe tbody tr th {\n",
       "        vertical-align: top;\n",
       "    }\n",
       "\n",
       "    .dataframe thead th {\n",
       "        text-align: right;\n",
       "    }\n",
       "</style>\n",
       "<table border=\"1\" class=\"dataframe\">\n",
       "  <thead>\n",
       "    <tr style=\"text-align: right;\">\n",
       "      <th></th>\n",
       "      <th>SKU</th>\n",
       "      <th>Row ID</th>\n",
       "      <th>Order ID</th>\n",
       "      <th>Order Date</th>\n",
       "      <th>Priority</th>\n",
       "      <th>Quantity</th>\n",
       "      <th>Sales</th>\n",
       "      <th>COGS</th>\n",
       "      <th>Profit</th>\n",
       "      <th>Shipping Type</th>\n",
       "      <th>Customer Name</th>\n",
       "      <th>Branch</th>\n",
       "      <th>Customer Segment</th>\n",
       "      <th>Shipping Date</th>\n",
       "    </tr>\n",
       "  </thead>\n",
       "  <tbody>\n",
       "    <tr>\n",
       "      <th>0</th>\n",
       "      <td>1</td>\n",
       "      <td>1</td>\n",
       "      <td>3</td>\n",
       "      <td>2010-10-13</td>\n",
       "      <td>Low</td>\n",
       "      <td>600</td>\n",
       "      <td>26154.00</td>\n",
       "      <td>21962.64</td>\n",
       "      <td>4191.36</td>\n",
       "      <td>Regular Air</td>\n",
       "      <td>Muhammed MacIntyre</td>\n",
       "      <td>Richmond</td>\n",
       "      <td>SMEs</td>\n",
       "      <td>2010-10-20</td>\n",
       "    </tr>\n",
       "    <tr>\n",
       "      <th>1</th>\n",
       "      <td>2</td>\n",
       "      <td>49</td>\n",
       "      <td>293</td>\n",
       "      <td>2012-10-01</td>\n",
       "      <td>High</td>\n",
       "      <td>4900</td>\n",
       "      <td>1012302.00</td>\n",
       "      <td>990343.80</td>\n",
       "      <td>21958.20</td>\n",
       "      <td>Ground</td>\n",
       "      <td>Barry French</td>\n",
       "      <td>Richmond</td>\n",
       "      <td>Consumer</td>\n",
       "      <td>2012-10-02</td>\n",
       "    </tr>\n",
       "    <tr>\n",
       "      <th>2</th>\n",
       "      <td>3</td>\n",
       "      <td>50</td>\n",
       "      <td>293</td>\n",
       "      <td>2012-10-01</td>\n",
       "      <td>High</td>\n",
       "      <td>2700</td>\n",
       "      <td>24457.00</td>\n",
       "      <td>23769.86</td>\n",
       "      <td>687.14</td>\n",
       "      <td>Regular Air</td>\n",
       "      <td>Barry French</td>\n",
       "      <td>Richmond</td>\n",
       "      <td>Consumer</td>\n",
       "      <td>2012-10-03</td>\n",
       "    </tr>\n",
       "    <tr>\n",
       "      <th>3</th>\n",
       "      <td>4</td>\n",
       "      <td>80</td>\n",
       "      <td>483</td>\n",
       "      <td>2011-07-10</td>\n",
       "      <td>High</td>\n",
       "      <td>3000</td>\n",
       "      <td>496575.95</td>\n",
       "      <td>534879.05</td>\n",
       "      <td>-38303.10</td>\n",
       "      <td>Regular Air</td>\n",
       "      <td>Clay Rozendal</td>\n",
       "      <td>Richmond</td>\n",
       "      <td>Corporate</td>\n",
       "      <td>2011-07-12</td>\n",
       "    </tr>\n",
       "    <tr>\n",
       "      <th>4</th>\n",
       "      <td>5</td>\n",
       "      <td>85</td>\n",
       "      <td>515</td>\n",
       "      <td>2010-08-28</td>\n",
       "      <td>Not Specified</td>\n",
       "      <td>1900</td>\n",
       "      <td>39427.00</td>\n",
       "      <td>39175.36</td>\n",
       "      <td>251.64</td>\n",
       "      <td>Regular Air</td>\n",
       "      <td>Carlos Soltero</td>\n",
       "      <td>Richmond</td>\n",
       "      <td>Consumer</td>\n",
       "      <td>2010-08-30</td>\n",
       "    </tr>\n",
       "  </tbody>\n",
       "</table>\n",
       "</div>"
      ],
      "text/plain": [
       "   SKU  Row ID  Order ID Order Date       Priority  Quantity       Sales  \\\n",
       "0    1       1         3 2010-10-13            Low       600    26154.00   \n",
       "1    2      49       293 2012-10-01           High      4900  1012302.00   \n",
       "2    3      50       293 2012-10-01           High      2700    24457.00   \n",
       "3    4      80       483 2011-07-10           High      3000   496575.95   \n",
       "4    5      85       515 2010-08-28  Not Specified      1900    39427.00   \n",
       "\n",
       "        COGS    Profit Shipping Type       Customer Name    Branch  \\\n",
       "0   21962.64   4191.36   Regular Air  Muhammed MacIntyre  Richmond   \n",
       "1  990343.80  21958.20        Ground        Barry French  Richmond   \n",
       "2   23769.86    687.14   Regular Air        Barry French  Richmond   \n",
       "3  534879.05 -38303.10   Regular Air       Clay Rozendal  Richmond   \n",
       "4   39175.36    251.64   Regular Air      Carlos Soltero  Richmond   \n",
       "\n",
       "  Customer Segment Shipping Date  \n",
       "0             SMEs    2010-10-20  \n",
       "1         Consumer    2012-10-02  \n",
       "2         Consumer    2012-10-03  \n",
       "3        Corporate    2011-07-12  \n",
       "4         Consumer    2010-08-30  "
      ]
     },
     "execution_count": 86,
     "metadata": {},
     "output_type": "execute_result"
    }
   ],
   "source": [
    "# Import the Excel file\n",
    "\n",
    "# %pip install openpyxl\n",
    "dm_records = pd.read_excel('../data/raw/FACT sales.xlsx')\n",
    "dm_records.head()"
   ]
  },
  {
   "cell_type": "markdown",
   "id": "81ffdabb",
   "metadata": {},
   "source": [
    "# 1. EDA\n",
    "- Get to know the domain\n",
    "- Explore your data\n",
    "- Clean your data\n",
    "- Take a look and find connections between data"
   ]
  },
  {
   "cell_type": "code",
   "execution_count": 87,
   "id": "b9cf928f",
   "metadata": {},
   "outputs": [
    {
     "name": "stdout",
     "output_type": "stream",
     "text": [
      "<class 'pandas.core.frame.DataFrame'>\n",
      "RangeIndex: 8399 entries, 0 to 8398\n",
      "Data columns (total 14 columns):\n",
      " #   Column            Non-Null Count  Dtype         \n",
      "---  ------            --------------  -----         \n",
      " 0   SKU               8399 non-null   int64         \n",
      " 1   Row ID            8399 non-null   int64         \n",
      " 2   Order ID          8399 non-null   int64         \n",
      " 3   Order Date        8399 non-null   datetime64[ns]\n",
      " 4    Priority         8399 non-null   object        \n",
      " 5   Quantity          8399 non-null   int64         \n",
      " 6   Sales             8399 non-null   float64       \n",
      " 7   COGS              8399 non-null   float64       \n",
      " 8   Profit            8399 non-null   float64       \n",
      " 9   Shipping Type     8399 non-null   object        \n",
      " 10  Customer Name     8399 non-null   object        \n",
      " 11  Branch            8399 non-null   object        \n",
      " 12  Customer Segment  8399 non-null   object        \n",
      " 13  Shipping Date     8399 non-null   datetime64[ns]\n",
      "dtypes: datetime64[ns](2), float64(3), int64(4), object(5)\n",
      "memory usage: 918.8+ KB\n"
     ]
    }
   ],
   "source": [
    "dm_records.info()"
   ]
  },
  {
   "cell_type": "code",
   "execution_count": 88,
   "id": "6087aca0",
   "metadata": {},
   "outputs": [],
   "source": [
    "dm_corr = round(dm_records.corr(numeric_only=True), 2)"
   ]
  },
  {
   "cell_type": "code",
   "execution_count": 89,
   "id": "6af3b970",
   "metadata": {},
   "outputs": [
    {
     "data": {
      "text/html": [
       "<div>\n",
       "<style scoped>\n",
       "    .dataframe tbody tr th:only-of-type {\n",
       "        vertical-align: middle;\n",
       "    }\n",
       "\n",
       "    .dataframe tbody tr th {\n",
       "        vertical-align: top;\n",
       "    }\n",
       "\n",
       "    .dataframe thead th {\n",
       "        text-align: right;\n",
       "    }\n",
       "</style>\n",
       "<table border=\"1\" class=\"dataframe\">\n",
       "  <thead>\n",
       "    <tr style=\"text-align: right;\">\n",
       "      <th></th>\n",
       "      <th>SKU</th>\n",
       "      <th>Row ID</th>\n",
       "      <th>Order ID</th>\n",
       "      <th>Order Date</th>\n",
       "      <th>Quantity</th>\n",
       "      <th>Sales</th>\n",
       "      <th>COGS</th>\n",
       "      <th>Profit</th>\n",
       "      <th>Shipping Date</th>\n",
       "    </tr>\n",
       "  </thead>\n",
       "  <tbody>\n",
       "    <tr>\n",
       "      <th>count</th>\n",
       "      <td>8399.00</td>\n",
       "      <td>8399.00</td>\n",
       "      <td>8399.00</td>\n",
       "      <td>8399</td>\n",
       "      <td>8399.00</td>\n",
       "      <td>8399.00</td>\n",
       "      <td>8399.00</td>\n",
       "      <td>8399.00</td>\n",
       "      <td>8399</td>\n",
       "    </tr>\n",
       "    <tr>\n",
       "      <th>mean</th>\n",
       "      <td>542.64</td>\n",
       "      <td>4200.00</td>\n",
       "      <td>29965.18</td>\n",
       "      <td>2010-12-25 00:40:58.578402048</td>\n",
       "      <td>2557.17</td>\n",
       "      <td>177587.82</td>\n",
       "      <td>177138.01</td>\n",
       "      <td>449.81</td>\n",
       "      <td>2010-12-27 01:28:48.634361088</td>\n",
       "    </tr>\n",
       "    <tr>\n",
       "      <th>min</th>\n",
       "      <td>1.00</td>\n",
       "      <td>1.00</td>\n",
       "      <td>3.00</td>\n",
       "      <td>2009-01-01 00:00:00</td>\n",
       "      <td>100.00</td>\n",
       "      <td>224.00</td>\n",
       "      <td>1.44</td>\n",
       "      <td>-807653.60</td>\n",
       "      <td>2009-01-02 00:00:00</td>\n",
       "    </tr>\n",
       "    <tr>\n",
       "      <th>25%</th>\n",
       "      <td>247.00</td>\n",
       "      <td>2100.50</td>\n",
       "      <td>15011.50</td>\n",
       "      <td>2009-12-20 00:00:00</td>\n",
       "      <td>1300.00</td>\n",
       "      <td>14319.50</td>\n",
       "      <td>13302.01</td>\n",
       "      <td>109.60</td>\n",
       "      <td>2009-12-22 12:00:00</td>\n",
       "    </tr>\n",
       "    <tr>\n",
       "      <th>50%</th>\n",
       "      <td>502.00</td>\n",
       "      <td>4200.00</td>\n",
       "      <td>29857.00</td>\n",
       "      <td>2010-12-17 00:00:00</td>\n",
       "      <td>2600.00</td>\n",
       "      <td>44942.00</td>\n",
       "      <td>45047.50</td>\n",
       "      <td>755.30</td>\n",
       "      <td>2010-12-18 00:00:00</td>\n",
       "    </tr>\n",
       "    <tr>\n",
       "      <th>75%</th>\n",
       "      <td>817.00</td>\n",
       "      <td>6299.50</td>\n",
       "      <td>44596.00</td>\n",
       "      <td>2012-01-01 12:00:00</td>\n",
       "      <td>3800.00</td>\n",
       "      <td>170932.00</td>\n",
       "      <td>171825.74</td>\n",
       "      <td>2448.93</td>\n",
       "      <td>2012-01-03 12:00:00</td>\n",
       "    </tr>\n",
       "    <tr>\n",
       "      <th>max</th>\n",
       "      <td>1289.00</td>\n",
       "      <td>8399.00</td>\n",
       "      <td>59973.00</td>\n",
       "      <td>2012-12-30 00:00:00</td>\n",
       "      <td>5000.00</td>\n",
       "      <td>8906105.00</td>\n",
       "      <td>8903102.66</td>\n",
       "      <td>236598.18</td>\n",
       "      <td>2012-12-30 00:00:00</td>\n",
       "    </tr>\n",
       "    <tr>\n",
       "      <th>std</th>\n",
       "      <td>344.42</td>\n",
       "      <td>2424.73</td>\n",
       "      <td>17260.88</td>\n",
       "      <td>NaN</td>\n",
       "      <td>1448.11</td>\n",
       "      <td>358505.05</td>\n",
       "      <td>358353.51</td>\n",
       "      <td>20841.38</td>\n",
       "      <td>NaN</td>\n",
       "    </tr>\n",
       "  </tbody>\n",
       "</table>\n",
       "</div>"
      ],
      "text/plain": [
       "           SKU   Row ID  Order ID                     Order Date  Quantity  \\\n",
       "count  8399.00  8399.00   8399.00                           8399   8399.00   \n",
       "mean    542.64  4200.00  29965.18  2010-12-25 00:40:58.578402048   2557.17   \n",
       "min       1.00     1.00      3.00            2009-01-01 00:00:00    100.00   \n",
       "25%     247.00  2100.50  15011.50            2009-12-20 00:00:00   1300.00   \n",
       "50%     502.00  4200.00  29857.00            2010-12-17 00:00:00   2600.00   \n",
       "75%     817.00  6299.50  44596.00            2012-01-01 12:00:00   3800.00   \n",
       "max    1289.00  8399.00  59973.00            2012-12-30 00:00:00   5000.00   \n",
       "std     344.42  2424.73  17260.88                            NaN   1448.11   \n",
       "\n",
       "            Sales        COGS     Profit                  Shipping Date  \n",
       "count     8399.00     8399.00    8399.00                           8399  \n",
       "mean    177587.82   177138.01     449.81  2010-12-27 01:28:48.634361088  \n",
       "min        224.00        1.44 -807653.60            2009-01-02 00:00:00  \n",
       "25%      14319.50    13302.01     109.60            2009-12-22 12:00:00  \n",
       "50%      44942.00    45047.50     755.30            2010-12-18 00:00:00  \n",
       "75%     170932.00   171825.74    2448.93            2012-01-03 12:00:00  \n",
       "max    8906105.00  8903102.66  236598.18            2012-12-30 00:00:00  \n",
       "std     358505.05   358353.51   20841.38                            NaN  "
      ]
     },
     "execution_count": 89,
     "metadata": {},
     "output_type": "execute_result"
    }
   ],
   "source": [
    "round(dm_records.describe(), 2)"
   ]
  },
  {
   "cell_type": "code",
   "execution_count": 90,
   "id": "22ee93da",
   "metadata": {},
   "outputs": [
    {
     "data": {
      "text/html": [
       "<style type=\"text/css\">\n",
       "#T_681e7_row0_col0, #T_681e7_row1_col1, #T_681e7_row1_col2, #T_681e7_row2_col1, #T_681e7_row2_col2, #T_681e7_row3_col3, #T_681e7_row4_col4, #T_681e7_row4_col5, #T_681e7_row5_col4, #T_681e7_row5_col5, #T_681e7_row6_col6 {\n",
       "  background-color: #b40426;\n",
       "  color: #f1f1f1;\n",
       "}\n",
       "#T_681e7_row0_col1, #T_681e7_row0_col2, #T_681e7_row3_col6 {\n",
       "  background-color: #465ecf;\n",
       "  color: #f1f1f1;\n",
       "}\n",
       "#T_681e7_row0_col3, #T_681e7_row0_col5, #T_681e7_row3_col1, #T_681e7_row3_col2 {\n",
       "  background-color: #4055c8;\n",
       "  color: #f1f1f1;\n",
       "}\n",
       "#T_681e7_row0_col4, #T_681e7_row1_col5, #T_681e7_row1_col6, #T_681e7_row2_col5, #T_681e7_row2_col6, #T_681e7_row6_col0, #T_681e7_row6_col3 {\n",
       "  background-color: #3d50c3;\n",
       "  color: #f1f1f1;\n",
       "}\n",
       "#T_681e7_row0_col6, #T_681e7_row1_col0, #T_681e7_row2_col0, #T_681e7_row3_col0 {\n",
       "  background-color: #4358cb;\n",
       "  color: #f1f1f1;\n",
       "}\n",
       "#T_681e7_row1_col3, #T_681e7_row1_col4, #T_681e7_row2_col3, #T_681e7_row2_col4, #T_681e7_row4_col0, #T_681e7_row4_col1, #T_681e7_row4_col2, #T_681e7_row5_col0, #T_681e7_row5_col1, #T_681e7_row5_col2, #T_681e7_row5_col6, #T_681e7_row6_col1, #T_681e7_row6_col2, #T_681e7_row6_col5 {\n",
       "  background-color: #3b4cc0;\n",
       "  color: #f1f1f1;\n",
       "}\n",
       "#T_681e7_row3_col4 {\n",
       "  background-color: #85a8fc;\n",
       "  color: #f1f1f1;\n",
       "}\n",
       "#T_681e7_row3_col5 {\n",
       "  background-color: #88abfd;\n",
       "  color: #000000;\n",
       "}\n",
       "#T_681e7_row4_col3, #T_681e7_row5_col3 {\n",
       "  background-color: #80a3fa;\n",
       "  color: #f1f1f1;\n",
       "}\n",
       "#T_681e7_row4_col6 {\n",
       "  background-color: #4c66d6;\n",
       "  color: #f1f1f1;\n",
       "}\n",
       "#T_681e7_row6_col4 {\n",
       "  background-color: #4961d2;\n",
       "  color: #f1f1f1;\n",
       "}\n",
       "</style>\n",
       "<table id=\"T_681e7\">\n",
       "  <thead>\n",
       "    <tr>\n",
       "      <th class=\"blank level0\" >&nbsp;</th>\n",
       "      <th id=\"T_681e7_level0_col0\" class=\"col_heading level0 col0\" >SKU</th>\n",
       "      <th id=\"T_681e7_level0_col1\" class=\"col_heading level0 col1\" >Row ID</th>\n",
       "      <th id=\"T_681e7_level0_col2\" class=\"col_heading level0 col2\" >Order ID</th>\n",
       "      <th id=\"T_681e7_level0_col3\" class=\"col_heading level0 col3\" >Quantity</th>\n",
       "      <th id=\"T_681e7_level0_col4\" class=\"col_heading level0 col4\" >Sales</th>\n",
       "      <th id=\"T_681e7_level0_col5\" class=\"col_heading level0 col5\" >COGS</th>\n",
       "      <th id=\"T_681e7_level0_col6\" class=\"col_heading level0 col6\" >Profit</th>\n",
       "    </tr>\n",
       "  </thead>\n",
       "  <tbody>\n",
       "    <tr>\n",
       "      <th id=\"T_681e7_level0_row0\" class=\"row_heading level0 row0\" >SKU</th>\n",
       "      <td id=\"T_681e7_row0_col0\" class=\"data row0 col0\" >1.000000</td>\n",
       "      <td id=\"T_681e7_row0_col1\" class=\"data row0 col1\" >0.030000</td>\n",
       "      <td id=\"T_681e7_row0_col2\" class=\"data row0 col2\" >0.030000</td>\n",
       "      <td id=\"T_681e7_row0_col3\" class=\"data row0 col3\" >0.030000</td>\n",
       "      <td id=\"T_681e7_row0_col4\" class=\"data row0 col4\" >-0.000000</td>\n",
       "      <td id=\"T_681e7_row0_col5\" class=\"data row0 col5\" >-0.000000</td>\n",
       "      <td id=\"T_681e7_row0_col6\" class=\"data row0 col6\" >0.010000</td>\n",
       "    </tr>\n",
       "    <tr>\n",
       "      <th id=\"T_681e7_level0_row1\" class=\"row_heading level0 row1\" >Row ID</th>\n",
       "      <td id=\"T_681e7_row1_col0\" class=\"data row1 col0\" >0.030000</td>\n",
       "      <td id=\"T_681e7_row1_col1\" class=\"data row1 col1\" >1.000000</td>\n",
       "      <td id=\"T_681e7_row1_col2\" class=\"data row1 col2\" >1.000000</td>\n",
       "      <td id=\"T_681e7_row1_col3\" class=\"data row1 col3\" >0.010000</td>\n",
       "      <td id=\"T_681e7_row1_col4\" class=\"data row1 col4\" >-0.010000</td>\n",
       "      <td id=\"T_681e7_row1_col5\" class=\"data row1 col5\" >-0.010000</td>\n",
       "      <td id=\"T_681e7_row1_col6\" class=\"data row1 col6\" >-0.010000</td>\n",
       "    </tr>\n",
       "    <tr>\n",
       "      <th id=\"T_681e7_level0_row2\" class=\"row_heading level0 row2\" >Order ID</th>\n",
       "      <td id=\"T_681e7_row2_col0\" class=\"data row2 col0\" >0.030000</td>\n",
       "      <td id=\"T_681e7_row2_col1\" class=\"data row2 col1\" >1.000000</td>\n",
       "      <td id=\"T_681e7_row2_col2\" class=\"data row2 col2\" >1.000000</td>\n",
       "      <td id=\"T_681e7_row2_col3\" class=\"data row2 col3\" >0.010000</td>\n",
       "      <td id=\"T_681e7_row2_col4\" class=\"data row2 col4\" >-0.010000</td>\n",
       "      <td id=\"T_681e7_row2_col5\" class=\"data row2 col5\" >-0.010000</td>\n",
       "      <td id=\"T_681e7_row2_col6\" class=\"data row2 col6\" >-0.010000</td>\n",
       "    </tr>\n",
       "    <tr>\n",
       "      <th id=\"T_681e7_level0_row3\" class=\"row_heading level0 row3\" >Quantity</th>\n",
       "      <td id=\"T_681e7_row3_col0\" class=\"data row3 col0\" >0.030000</td>\n",
       "      <td id=\"T_681e7_row3_col1\" class=\"data row3 col1\" >0.010000</td>\n",
       "      <td id=\"T_681e7_row3_col2\" class=\"data row3 col2\" >0.010000</td>\n",
       "      <td id=\"T_681e7_row3_col3\" class=\"data row3 col3\" >1.000000</td>\n",
       "      <td id=\"T_681e7_row3_col4\" class=\"data row3 col4\" >0.220000</td>\n",
       "      <td id=\"T_681e7_row3_col5\" class=\"data row3 col5\" >0.220000</td>\n",
       "      <td id=\"T_681e7_row3_col6\" class=\"data row3 col6\" >0.020000</td>\n",
       "    </tr>\n",
       "    <tr>\n",
       "      <th id=\"T_681e7_level0_row4\" class=\"row_heading level0 row4\" >Sales</th>\n",
       "      <td id=\"T_681e7_row4_col0\" class=\"data row4 col0\" >-0.000000</td>\n",
       "      <td id=\"T_681e7_row4_col1\" class=\"data row4 col1\" >-0.010000</td>\n",
       "      <td id=\"T_681e7_row4_col2\" class=\"data row4 col2\" >-0.010000</td>\n",
       "      <td id=\"T_681e7_row4_col3\" class=\"data row4 col3\" >0.220000</td>\n",
       "      <td id=\"T_681e7_row4_col4\" class=\"data row4 col4\" >1.000000</td>\n",
       "      <td id=\"T_681e7_row4_col5\" class=\"data row4 col5\" >1.000000</td>\n",
       "      <td id=\"T_681e7_row4_col6\" class=\"data row4 col6\" >0.040000</td>\n",
       "    </tr>\n",
       "    <tr>\n",
       "      <th id=\"T_681e7_level0_row5\" class=\"row_heading level0 row5\" >COGS</th>\n",
       "      <td id=\"T_681e7_row5_col0\" class=\"data row5 col0\" >-0.000000</td>\n",
       "      <td id=\"T_681e7_row5_col1\" class=\"data row5 col1\" >-0.010000</td>\n",
       "      <td id=\"T_681e7_row5_col2\" class=\"data row5 col2\" >-0.010000</td>\n",
       "      <td id=\"T_681e7_row5_col3\" class=\"data row5 col3\" >0.220000</td>\n",
       "      <td id=\"T_681e7_row5_col4\" class=\"data row5 col4\" >1.000000</td>\n",
       "      <td id=\"T_681e7_row5_col5\" class=\"data row5 col5\" >1.000000</td>\n",
       "      <td id=\"T_681e7_row5_col6\" class=\"data row5 col6\" >-0.020000</td>\n",
       "    </tr>\n",
       "    <tr>\n",
       "      <th id=\"T_681e7_level0_row6\" class=\"row_heading level0 row6\" >Profit</th>\n",
       "      <td id=\"T_681e7_row6_col0\" class=\"data row6 col0\" >0.010000</td>\n",
       "      <td id=\"T_681e7_row6_col1\" class=\"data row6 col1\" >-0.010000</td>\n",
       "      <td id=\"T_681e7_row6_col2\" class=\"data row6 col2\" >-0.010000</td>\n",
       "      <td id=\"T_681e7_row6_col3\" class=\"data row6 col3\" >0.020000</td>\n",
       "      <td id=\"T_681e7_row6_col4\" class=\"data row6 col4\" >0.040000</td>\n",
       "      <td id=\"T_681e7_row6_col5\" class=\"data row6 col5\" >-0.020000</td>\n",
       "      <td id=\"T_681e7_row6_col6\" class=\"data row6 col6\" >1.000000</td>\n",
       "    </tr>\n",
       "  </tbody>\n",
       "</table>\n"
      ],
      "text/plain": [
       "<pandas.io.formats.style.Styler at 0x18b317f87c0>"
      ]
     },
     "execution_count": 90,
     "metadata": {},
     "output_type": "execute_result"
    }
   ],
   "source": [
    "dm_corr.style.background_gradient(cmap='coolwarm')"
   ]
  },
  {
   "cell_type": "markdown",
   "id": "c92d852d",
   "metadata": {},
   "source": [
    "#### First impressions\n",
    "- The minimum value for 'Profit' is extremely negative\n",
    "- We do not know for sure which customer segment are related these outliers to\n",
    "- As profits depend on the subtraction of costs from sales, the outlier is going to be handle on COGS and Sales"
   ]
  },
  {
   "cell_type": "markdown",
   "id": "ece2b6df",
   "metadata": {},
   "source": [
    "# Outliers handling by Customer Segment"
   ]
  },
  {
   "cell_type": "markdown",
   "id": "b2388c82",
   "metadata": {},
   "source": [
    "### 1. Removing Profit column"
   ]
  },
  {
   "cell_type": "code",
   "execution_count": 91,
   "id": "2bfd5f15",
   "metadata": {},
   "outputs": [],
   "source": [
    "dm_records.drop(columns='Profit', inplace=True)"
   ]
  },
  {
   "cell_type": "markdown",
   "id": "1c4343c0",
   "metadata": {},
   "source": [
    "### 2. Splitting the Dataframe by Segment"
   ]
  },
  {
   "cell_type": "code",
   "execution_count": 92,
   "id": "8fe7f75e",
   "metadata": {},
   "outputs": [
    {
     "data": {
      "text/plain": [
       "array(['SMEs', 'Consumer', 'Corporate', 'Home Office'], dtype=object)"
      ]
     },
     "execution_count": 92,
     "metadata": {},
     "output_type": "execute_result"
    }
   ],
   "source": [
    "dm_records['Customer Segment'].unique()"
   ]
  },
  {
   "cell_type": "code",
   "execution_count": 93,
   "id": "8e96ef51",
   "metadata": {},
   "outputs": [],
   "source": [
    "dm_SMEs = dm_records[dm_records['Customer Segment'] == 'SMEs']\n",
    "dm_Consumer = dm_records[dm_records['Customer Segment'] == 'Consumer']\n",
    "dm_Corporate = dm_records[dm_records['Customer Segment'] == 'Corporate']\n",
    "dm_Home_Office = dm_records[dm_records['Customer Segment'] == 'Home Office']"
   ]
  },
  {
   "cell_type": "markdown",
   "id": "c782f24a",
   "metadata": {},
   "source": [
    "### 3. Detecting and Removing Outliers by Segment"
   ]
  },
  {
   "cell_type": "code",
   "execution_count": 94,
   "id": "a650746b",
   "metadata": {},
   "outputs": [
    {
     "data": {
      "text/html": [
       "<div>\n",
       "<style scoped>\n",
       "    .dataframe tbody tr th:only-of-type {\n",
       "        vertical-align: middle;\n",
       "    }\n",
       "\n",
       "    .dataframe tbody tr th {\n",
       "        vertical-align: top;\n",
       "    }\n",
       "\n",
       "    .dataframe thead th {\n",
       "        text-align: right;\n",
       "    }\n",
       "</style>\n",
       "<table border=\"1\" class=\"dataframe\">\n",
       "  <thead>\n",
       "    <tr style=\"text-align: right;\">\n",
       "      <th></th>\n",
       "      <th>SKU</th>\n",
       "      <th>Row ID</th>\n",
       "      <th>Order ID</th>\n",
       "      <th>Order Date</th>\n",
       "      <th>Quantity</th>\n",
       "      <th>Sales</th>\n",
       "      <th>COGS</th>\n",
       "      <th>Shipping Date</th>\n",
       "    </tr>\n",
       "  </thead>\n",
       "  <tbody>\n",
       "    <tr>\n",
       "      <th>count</th>\n",
       "      <td>1642.00</td>\n",
       "      <td>1642.00</td>\n",
       "      <td>1642.00</td>\n",
       "      <td>1642</td>\n",
       "      <td>1642.00</td>\n",
       "      <td>1642.00</td>\n",
       "      <td>1642.00</td>\n",
       "      <td>1642</td>\n",
       "    </tr>\n",
       "    <tr>\n",
       "      <th>mean</th>\n",
       "      <td>538.00</td>\n",
       "      <td>4313.10</td>\n",
       "      <td>30776.49</td>\n",
       "      <td>2010-12-23 07:18:29.378806272</td>\n",
       "      <td>2539.16</td>\n",
       "      <td>169812.48</td>\n",
       "      <td>169563.64</td>\n",
       "      <td>2010-12-25 06:20:36.540804096</td>\n",
       "    </tr>\n",
       "    <tr>\n",
       "      <th>min</th>\n",
       "      <td>1.00</td>\n",
       "      <td>1.00</td>\n",
       "      <td>3.00</td>\n",
       "      <td>2009-01-01 00:00:00</td>\n",
       "      <td>100.00</td>\n",
       "      <td>320.00</td>\n",
       "      <td>78.10</td>\n",
       "      <td>2009-01-02 00:00:00</td>\n",
       "    </tr>\n",
       "    <tr>\n",
       "      <th>25%</th>\n",
       "      <td>246.25</td>\n",
       "      <td>2203.25</td>\n",
       "      <td>15904.00</td>\n",
       "      <td>2009-12-28 00:00:00</td>\n",
       "      <td>1300.00</td>\n",
       "      <td>13487.75</td>\n",
       "      <td>12352.30</td>\n",
       "      <td>2009-12-30 00:00:00</td>\n",
       "    </tr>\n",
       "    <tr>\n",
       "      <th>50%</th>\n",
       "      <td>500.00</td>\n",
       "      <td>4453.00</td>\n",
       "      <td>31733.00</td>\n",
       "      <td>2010-12-07 00:00:00</td>\n",
       "      <td>2500.00</td>\n",
       "      <td>43863.50</td>\n",
       "      <td>44473.59</td>\n",
       "      <td>2010-12-09 00:00:00</td>\n",
       "    </tr>\n",
       "    <tr>\n",
       "      <th>75%</th>\n",
       "      <td>816.75</td>\n",
       "      <td>6399.75</td>\n",
       "      <td>45413.00</td>\n",
       "      <td>2011-12-27 00:00:00</td>\n",
       "      <td>3800.00</td>\n",
       "      <td>167781.75</td>\n",
       "      <td>167917.32</td>\n",
       "      <td>2011-12-28 00:00:00</td>\n",
       "    </tr>\n",
       "    <tr>\n",
       "      <th>max</th>\n",
       "      <td>1284.00</td>\n",
       "      <td>8399.00</td>\n",
       "      <td>59973.00</td>\n",
       "      <td>2012-12-30 00:00:00</td>\n",
       "      <td>5000.00</td>\n",
       "      <td>3336785.00</td>\n",
       "      <td>3336603.56</td>\n",
       "      <td>2012-12-30 00:00:00</td>\n",
       "    </tr>\n",
       "    <tr>\n",
       "      <th>std</th>\n",
       "      <td>343.81</td>\n",
       "      <td>2431.24</td>\n",
       "      <td>17313.33</td>\n",
       "      <td>NaN</td>\n",
       "      <td>1447.68</td>\n",
       "      <td>335671.31</td>\n",
       "      <td>335176.78</td>\n",
       "      <td>NaN</td>\n",
       "    </tr>\n",
       "  </tbody>\n",
       "</table>\n",
       "</div>"
      ],
      "text/plain": [
       "           SKU   Row ID  Order ID                     Order Date  Quantity  \\\n",
       "count  1642.00  1642.00   1642.00                           1642   1642.00   \n",
       "mean    538.00  4313.10  30776.49  2010-12-23 07:18:29.378806272   2539.16   \n",
       "min       1.00     1.00      3.00            2009-01-01 00:00:00    100.00   \n",
       "25%     246.25  2203.25  15904.00            2009-12-28 00:00:00   1300.00   \n",
       "50%     500.00  4453.00  31733.00            2010-12-07 00:00:00   2500.00   \n",
       "75%     816.75  6399.75  45413.00            2011-12-27 00:00:00   3800.00   \n",
       "max    1284.00  8399.00  59973.00            2012-12-30 00:00:00   5000.00   \n",
       "std     343.81  2431.24  17313.33                            NaN   1447.68   \n",
       "\n",
       "            Sales        COGS                  Shipping Date  \n",
       "count     1642.00     1642.00                           1642  \n",
       "mean    169812.48   169563.64  2010-12-25 06:20:36.540804096  \n",
       "min        320.00       78.10            2009-01-02 00:00:00  \n",
       "25%      13487.75    12352.30            2009-12-30 00:00:00  \n",
       "50%      43863.50    44473.59            2010-12-09 00:00:00  \n",
       "75%     167781.75   167917.32            2011-12-28 00:00:00  \n",
       "max    3336785.00  3336603.56            2012-12-30 00:00:00  \n",
       "std     335671.31   335176.78                            NaN  "
      ]
     },
     "execution_count": 94,
     "metadata": {},
     "output_type": "execute_result"
    }
   ],
   "source": [
    "round(dm_SMEs.describe(), 2)"
   ]
  },
  {
   "cell_type": "markdown",
   "id": "3ed69b9d",
   "metadata": {},
   "source": [
    "#### 3.1. SMEs"
   ]
  },
  {
   "cell_type": "markdown",
   "id": "7f62e726",
   "metadata": {},
   "source": [
    "- COGS"
   ]
  },
  {
   "cell_type": "code",
   "execution_count": 95,
   "id": "daf0e0db",
   "metadata": {},
   "outputs": [
    {
     "data": {
      "image/png": "[encoded data removed]",
      "text/plain": [
       "<Figure size 640x480 with 1 Axes>"
      ]
     },
     "metadata": {},
     "output_type": "display_data"
    }
   ],
   "source": [
    "# COGS\n",
    "\n",
    "sns.boxplot(x = dm_SMEs['COGS'])\n",
    "plt.show()"
   ]
  },
  {
   "cell_type": "code",
   "execution_count": 96,
   "id": "fe9571d6",
   "metadata": {},
   "outputs": [
    {
     "name": "stdout",
     "output_type": "stream",
     "text": [
      "-835966.7051790095 , 1175093.9898075112\n"
     ]
    }
   ],
   "source": [
    "SMEs_cogs_mean = dm_SMEs['COGS'].mean()\n",
    "SMEs_cogs_std = dm_SMEs['COGS'].std()\n",
    "cut_off = SMEs_cogs_std * 3\n",
    "\n",
    "lower, upper = SMEs_cogs_mean - cut_off, SMEs_cogs_mean + cut_off\n",
    "print(lower,',', upper)"
   ]
  },
  {
   "cell_type": "markdown",
   "id": "18ad2dd6",
   "metadata": {},
   "source": [
    "The lower threshold (-835966.7) is lesser than the min value for COGS in the describe method (78.10).\n",
    "So let's do this small change:"
   ]
  },
  {
   "cell_type": "code",
   "execution_count": 97,
   "id": "6a401a3a",
   "metadata": {},
   "outputs": [
    {
     "name": "stdout",
     "output_type": "stream",
     "text": [
      "78.09999999999764\n"
     ]
    }
   ],
   "source": [
    "lower = min(dm_SMEs['COGS'])\n",
    "print(lower)"
   ]
  },
  {
   "cell_type": "code",
   "execution_count": 98,
   "id": "6162941d",
   "metadata": {},
   "outputs": [],
   "source": [
    "dm_SMEs = dm_SMEs[(dm_SMEs['COGS'] < upper) &\n",
    "                                         (dm_SMEs['COGS'] > lower)]"
   ]
  },
  {
   "cell_type": "code",
   "execution_count": 99,
   "id": "48d65370",
   "metadata": {},
   "outputs": [
    {
     "data": {
      "image/png": "[encoded data removed]",
      "text/plain": [
       "<Figure size 640x480 with 1 Axes>"
      ]
     },
     "metadata": {},
     "output_type": "display_data"
    }
   ],
   "source": [
    "sns.boxplot(x = dm_SMEs['COGS'])\n",
    "plt.show()"
   ]
  },
  {
   "cell_type": "markdown",
   "id": "3c9c4167",
   "metadata": {},
   "source": [
    "- Sales"
   ]
  },
  {
   "cell_type": "code",
   "execution_count": 100,
   "id": "d691c2db",
   "metadata": {},
   "outputs": [
    {
     "data": {
      "image/png": "[encoded data removed]",
      "text/plain": [
       "<Figure size 640x480 with 1 Axes>"
      ]
     },
     "metadata": {},
     "output_type": "display_data"
    }
   ],
   "source": [
    "# Sales\n",
    "sns.boxplot(x = dm_SMEs['Sales'])\n",
    "plt.show()"
   ]
  },
  {
   "cell_type": "code",
   "execution_count": 101,
   "id": "46b60898",
   "metadata": {},
   "outputs": [
    {
     "name": "stdout",
     "output_type": "stream",
     "text": [
      "-461287.46938388085 , 718979.5344899982\n",
      "320.0 , 718979.5344899982\n"
     ]
    },
    {
     "name": "stderr",
     "output_type": "stream",
     "text": [
      "C:\\Users\\andre\\AppData\\Local\\Temp\\ipykernel_3192\\2183173943.py:12: UserWarning: Boolean Series key will be reindexed to match DataFrame index.\n",
      "  dm_SMEs = dm_SMEs[(dm_records['Sales'] < upper) &\n"
     ]
    },
    {
     "data": {
      "image/png": "[encoded data removed]",
      "text/plain": [
       "<Figure size 640x480 with 1 Axes>"
      ]
     },
     "metadata": {},
     "output_type": "display_data"
    }
   ],
   "source": [
    "# Sales\n",
    "\n",
    "SMEs_sales_mean = dm_SMEs['Sales'].mean()\n",
    "SMEs_sales_std = dm_SMEs['Sales'].std()\n",
    "cut_off = SMEs_sales_std * 3\n",
    "\n",
    "lower, upper = SMEs_sales_mean - cut_off, SMEs_sales_mean + cut_off\n",
    "print(lower,',',upper)\n",
    "lower = min(dm_SMEs['Sales'])\n",
    "print(lower,',',upper)\n",
    "\n",
    "dm_SMEs = dm_SMEs[(dm_records['Sales'] < upper) &\n",
    "                                         (dm_SMEs['Sales'] > lower)]\n",
    "sns.boxplot(x = dm_SMEs['Sales'])\n",
    "plt.show()"
   ]
  },
  {
   "cell_type": "markdown",
   "id": "af589cca",
   "metadata": {},
   "source": [
    "#### 3.2. Consumer"
   ]
  },
  {
   "cell_type": "markdown",
   "id": "91d5a6bf",
   "metadata": {},
   "source": [
    "- COGS"
   ]
  },
  {
   "cell_type": "code",
   "execution_count": 102,
   "id": "fdbae8e7",
   "metadata": {},
   "outputs": [
    {
     "data": {
      "text/html": [
       "<div>\n",
       "<style scoped>\n",
       "    .dataframe tbody tr th:only-of-type {\n",
       "        vertical-align: middle;\n",
       "    }\n",
       "\n",
       "    .dataframe tbody tr th {\n",
       "        vertical-align: top;\n",
       "    }\n",
       "\n",
       "    .dataframe thead th {\n",
       "        text-align: right;\n",
       "    }\n",
       "</style>\n",
       "<table border=\"1\" class=\"dataframe\">\n",
       "  <thead>\n",
       "    <tr style=\"text-align: right;\">\n",
       "      <th></th>\n",
       "      <th>SKU</th>\n",
       "      <th>Row ID</th>\n",
       "      <th>Order ID</th>\n",
       "      <th>Order Date</th>\n",
       "      <th>Quantity</th>\n",
       "      <th>Sales</th>\n",
       "      <th>COGS</th>\n",
       "      <th>Shipping Date</th>\n",
       "    </tr>\n",
       "  </thead>\n",
       "  <tbody>\n",
       "    <tr>\n",
       "      <th>count</th>\n",
       "      <td>1649.00</td>\n",
       "      <td>1649.00</td>\n",
       "      <td>1649.00</td>\n",
       "      <td>1649</td>\n",
       "      <td>1649.00</td>\n",
       "      <td>1649.00</td>\n",
       "      <td>1649.00</td>\n",
       "      <td>1649</td>\n",
       "    </tr>\n",
       "    <tr>\n",
       "      <th>mean</th>\n",
       "      <td>551.64</td>\n",
       "      <td>4155.63</td>\n",
       "      <td>29651.30</td>\n",
       "      <td>2010-12-02 13:16:24.596725248</td>\n",
       "      <td>2532.44</td>\n",
       "      <td>185786.00</td>\n",
       "      <td>185541.77</td>\n",
       "      <td>2010-12-04 12:35:22.013341440</td>\n",
       "    </tr>\n",
       "    <tr>\n",
       "      <th>min</th>\n",
       "      <td>1.00</td>\n",
       "      <td>11.00</td>\n",
       "      <td>66.00</td>\n",
       "      <td>2009-01-02 00:00:00</td>\n",
       "      <td>100.00</td>\n",
       "      <td>568.00</td>\n",
       "      <td>1.44</td>\n",
       "      <td>2009-01-02 00:00:00</td>\n",
       "    </tr>\n",
       "    <tr>\n",
       "      <th>25%</th>\n",
       "      <td>240.00</td>\n",
       "      <td>2004.00</td>\n",
       "      <td>14275.00</td>\n",
       "      <td>2009-12-09 00:00:00</td>\n",
       "      <td>1300.00</td>\n",
       "      <td>14366.70</td>\n",
       "      <td>13056.30</td>\n",
       "      <td>2009-12-11 00:00:00</td>\n",
       "    </tr>\n",
       "    <tr>\n",
       "      <th>50%</th>\n",
       "      <td>524.00</td>\n",
       "      <td>4079.00</td>\n",
       "      <td>29058.00</td>\n",
       "      <td>2010-11-21 00:00:00</td>\n",
       "      <td>2500.00</td>\n",
       "      <td>47011.00</td>\n",
       "      <td>46813.85</td>\n",
       "      <td>2010-11-23 00:00:00</td>\n",
       "    </tr>\n",
       "    <tr>\n",
       "      <th>75%</th>\n",
       "      <td>827.00</td>\n",
       "      <td>6372.00</td>\n",
       "      <td>45217.00</td>\n",
       "      <td>2011-11-28 00:00:00</td>\n",
       "      <td>3800.00</td>\n",
       "      <td>167727.00</td>\n",
       "      <td>167949.84</td>\n",
       "      <td>2011-12-01 00:00:00</td>\n",
       "    </tr>\n",
       "    <tr>\n",
       "      <th>max</th>\n",
       "      <td>1288.00</td>\n",
       "      <td>8378.00</td>\n",
       "      <td>59845.00</td>\n",
       "      <td>2012-12-30 00:00:00</td>\n",
       "      <td>5000.00</td>\n",
       "      <td>8906105.00</td>\n",
       "      <td>8903102.66</td>\n",
       "      <td>2012-12-30 00:00:00</td>\n",
       "    </tr>\n",
       "    <tr>\n",
       "      <th>std</th>\n",
       "      <td>348.97</td>\n",
       "      <td>2472.66</td>\n",
       "      <td>17604.12</td>\n",
       "      <td>NaN</td>\n",
       "      <td>1425.44</td>\n",
       "      <td>411219.82</td>\n",
       "      <td>411425.44</td>\n",
       "      <td>NaN</td>\n",
       "    </tr>\n",
       "  </tbody>\n",
       "</table>\n",
       "</div>"
      ],
      "text/plain": [
       "           SKU   Row ID  Order ID                     Order Date  Quantity  \\\n",
       "count  1649.00  1649.00   1649.00                           1649   1649.00   \n",
       "mean    551.64  4155.63  29651.30  2010-12-02 13:16:24.596725248   2532.44   \n",
       "min       1.00    11.00     66.00            2009-01-02 00:00:00    100.00   \n",
       "25%     240.00  2004.00  14275.00            2009-12-09 00:00:00   1300.00   \n",
       "50%     524.00  4079.00  29058.00            2010-11-21 00:00:00   2500.00   \n",
       "75%     827.00  6372.00  45217.00            2011-11-28 00:00:00   3800.00   \n",
       "max    1288.00  8378.00  59845.00            2012-12-30 00:00:00   5000.00   \n",
       "std     348.97  2472.66  17604.12                            NaN   1425.44   \n",
       "\n",
       "            Sales        COGS                  Shipping Date  \n",
       "count     1649.00     1649.00                           1649  \n",
       "mean    185786.00   185541.77  2010-12-04 12:35:22.013341440  \n",
       "min        568.00        1.44            2009-01-02 00:00:00  \n",
       "25%      14366.70    13056.30            2009-12-11 00:00:00  \n",
       "50%      47011.00    46813.85            2010-11-23 00:00:00  \n",
       "75%     167727.00   167949.84            2011-12-01 00:00:00  \n",
       "max    8906105.00  8903102.66            2012-12-30 00:00:00  \n",
       "std     411219.82   411425.44                            NaN  "
      ]
     },
     "execution_count": 102,
     "metadata": {},
     "output_type": "execute_result"
    }
   ],
   "source": [
    "# COGS dm_Consumer\n",
    "round(dm_Consumer.describe(),2)"
   ]
  },
  {
   "cell_type": "code",
   "execution_count": 103,
   "id": "6052812f",
   "metadata": {},
   "outputs": [
    {
     "data": {
      "image/png": "[encoded data removed]",
      "text/plain": [
       "<Figure size 640x480 with 1 Axes>"
      ]
     },
     "metadata": {},
     "output_type": "display_data"
    }
   ],
   "source": [
    "# COGS\n",
    "\n",
    "sns.boxplot(x = dm_Consumer['COGS'])\n",
    "plt.show()"
   ]
  },
  {
   "cell_type": "code",
   "execution_count": 104,
   "id": "9de58213",
   "metadata": {},
   "outputs": [
    {
     "name": "stdout",
     "output_type": "stream",
     "text": [
      "-1048734.565860285 , 1419818.1022581016\n"
     ]
    }
   ],
   "source": [
    "# COGS dm_Consumer\n",
    "\n",
    "Consumer_cogs_mean = dm_Consumer['COGS'].mean()\n",
    "Consumer_cogs_std = dm_Consumer['COGS'].std()\n",
    "cut_off = Consumer_cogs_std * 3\n",
    "\n",
    "lower, upper = Consumer_cogs_mean - cut_off, Consumer_cogs_mean + cut_off\n",
    "print(lower,',', upper)"
   ]
  },
  {
   "cell_type": "code",
   "execution_count": 105,
   "id": "b5a40aad",
   "metadata": {},
   "outputs": [
    {
     "name": "stdout",
     "output_type": "stream",
     "text": [
      "1.4400000000000546\n"
     ]
    }
   ],
   "source": [
    "lower = min(dm_Consumer['COGS'])\n",
    "print(lower)"
   ]
  },
  {
   "cell_type": "code",
   "execution_count": 106,
   "id": "21979a6f",
   "metadata": {},
   "outputs": [],
   "source": [
    "dm_Consumer = dm_Consumer[(dm_Consumer['COGS'] < upper) &\n",
    "                                         (dm_Consumer['COGS'] > lower)]"
   ]
  },
  {
   "cell_type": "code",
   "execution_count": 107,
   "id": "033b37d2",
   "metadata": {},
   "outputs": [
    {
     "data": {
      "image/png": "[encoded data removed]",
      "text/plain": [
       "<Figure size 640x480 with 1 Axes>"
      ]
     },
     "metadata": {},
     "output_type": "display_data"
    }
   ],
   "source": [
    "sns.boxplot(x = dm_Consumer['COGS'])\n",
    "plt.show()"
   ]
  },
  {
   "cell_type": "markdown",
   "id": "0467ffec",
   "metadata": {},
   "source": [
    "- Sales"
   ]
  },
  {
   "cell_type": "code",
   "execution_count": 108,
   "id": "7b237a70",
   "metadata": {},
   "outputs": [
    {
     "data": {
      "image/png": "[encoded data removed]",
      "text/plain": [
       "<Figure size 640x480 with 1 Axes>"
      ]
     },
     "metadata": {},
     "output_type": "display_data"
    }
   ],
   "source": [
    "# Sales dm_Consumer\n",
    "sns.boxplot(x = dm_SMEs['Sales'])\n",
    "plt.show()"
   ]
  },
  {
   "cell_type": "code",
   "execution_count": 109,
   "id": "80a585ce",
   "metadata": {},
   "outputs": [
    {
     "name": "stdout",
     "output_type": "stream",
     "text": [
      "-543505.5369296127 , 823353.1404121998\n"
     ]
    }
   ],
   "source": [
    "# Sales dm_Consumer\n",
    "\n",
    "Consumer_sales_mean = dm_Consumer['Sales'].mean()\n",
    "Consumer_sales_std = dm_Consumer['Sales'].std()\n",
    "cut_off = Consumer_sales_std * 3\n",
    "\n",
    "lower, upper = Consumer_sales_mean - cut_off, Consumer_sales_mean + cut_off\n",
    "print(lower,',', upper)"
   ]
  },
  {
   "cell_type": "code",
   "execution_count": 110,
   "id": "30291d4c",
   "metadata": {},
   "outputs": [
    {
     "name": "stdout",
     "output_type": "stream",
     "text": [
      "568.0\n"
     ]
    }
   ],
   "source": [
    "lower = min(dm_Consumer['Sales'])\n",
    "print(lower)"
   ]
  },
  {
   "cell_type": "code",
   "execution_count": 111,
   "id": "961b998c",
   "metadata": {},
   "outputs": [],
   "source": [
    "dm_Consumer = dm_Consumer[(dm_Consumer['Sales'] < upper) &\n",
    "                                         (dm_Consumer['Sales'] > lower)]"
   ]
  },
  {
   "cell_type": "code",
   "execution_count": 112,
   "id": "7c640145",
   "metadata": {},
   "outputs": [
    {
     "data": {
      "image/png": "[encoded data removed]",
      "text/plain": [
       "<Figure size 640x480 with 1 Axes>"
      ]
     },
     "metadata": {},
     "output_type": "display_data"
    }
   ],
   "source": [
    "sns.boxplot(x = dm_SMEs['Sales'])\n",
    "plt.show()"
   ]
  },
  {
   "cell_type": "markdown",
   "id": "1183ab33",
   "metadata": {},
   "source": [
    "#### 3.3. Corporate"
   ]
  },
  {
   "cell_type": "markdown",
   "id": "aa582f47",
   "metadata": {},
   "source": [
    "- COGS"
   ]
  },
  {
   "cell_type": "code",
   "execution_count": 113,
   "id": "39d0b45e",
   "metadata": {},
   "outputs": [
    {
     "data": {
      "image/png": "[encoded data removed]",
      "text/plain": [
       "<Figure size 640x480 with 1 Axes>"
      ]
     },
     "metadata": {},
     "output_type": "display_data"
    }
   ],
   "source": [
    "# COGS dm_Corporate\n",
    "sns.boxplot(x = dm_Corporate['COGS'])\n",
    "plt.show()"
   ]
  },
  {
   "cell_type": "code",
   "execution_count": 114,
   "id": "5d36bf7c",
   "metadata": {},
   "outputs": [
    {
     "data": {
      "text/html": [
       "<div>\n",
       "<style scoped>\n",
       "    .dataframe tbody tr th:only-of-type {\n",
       "        vertical-align: middle;\n",
       "    }\n",
       "\n",
       "    .dataframe tbody tr th {\n",
       "        vertical-align: top;\n",
       "    }\n",
       "\n",
       "    .dataframe thead th {\n",
       "        text-align: right;\n",
       "    }\n",
       "</style>\n",
       "<table border=\"1\" class=\"dataframe\">\n",
       "  <thead>\n",
       "    <tr style=\"text-align: right;\">\n",
       "      <th></th>\n",
       "      <th>SKU</th>\n",
       "      <th>Row ID</th>\n",
       "      <th>Order ID</th>\n",
       "      <th>Order Date</th>\n",
       "      <th>Quantity</th>\n",
       "      <th>Sales</th>\n",
       "      <th>COGS</th>\n",
       "      <th>Shipping Date</th>\n",
       "    </tr>\n",
       "  </thead>\n",
       "  <tbody>\n",
       "    <tr>\n",
       "      <th>count</th>\n",
       "      <td>3076.00</td>\n",
       "      <td>3076.00</td>\n",
       "      <td>3076.00</td>\n",
       "      <td>3076</td>\n",
       "      <td>3076.00</td>\n",
       "      <td>3076.00</td>\n",
       "      <td>3076.00</td>\n",
       "      <td>3076</td>\n",
       "    </tr>\n",
       "    <tr>\n",
       "      <th>mean</th>\n",
       "      <td>530.22</td>\n",
       "      <td>4138.81</td>\n",
       "      <td>29526.97</td>\n",
       "      <td>2011-01-01 13:57:30.195058432</td>\n",
       "      <td>2552.57</td>\n",
       "      <td>178768.04</td>\n",
       "      <td>178321.22</td>\n",
       "      <td>2011-01-03 15:43:18.179453952</td>\n",
       "    </tr>\n",
       "    <tr>\n",
       "      <th>min</th>\n",
       "      <td>1.00</td>\n",
       "      <td>2.00</td>\n",
       "      <td>6.00</td>\n",
       "      <td>2009-01-02 00:00:00</td>\n",
       "      <td>100.00</td>\n",
       "      <td>224.00</td>\n",
       "      <td>5.68</td>\n",
       "      <td>2009-01-02 00:00:00</td>\n",
       "    </tr>\n",
       "    <tr>\n",
       "      <th>25%</th>\n",
       "      <td>242.00</td>\n",
       "      <td>2053.75</td>\n",
       "      <td>14662.00</td>\n",
       "      <td>2009-12-18 00:00:00</td>\n",
       "      <td>1300.00</td>\n",
       "      <td>14292.50</td>\n",
       "      <td>13229.17</td>\n",
       "      <td>2009-12-19 18:00:00</td>\n",
       "    </tr>\n",
       "    <tr>\n",
       "      <th>50%</th>\n",
       "      <td>479.00</td>\n",
       "      <td>4141.50</td>\n",
       "      <td>29383.00</td>\n",
       "      <td>2010-12-26 00:00:00</td>\n",
       "      <td>2600.00</td>\n",
       "      <td>43099.50</td>\n",
       "      <td>42640.05</td>\n",
       "      <td>2010-12-30 00:00:00</td>\n",
       "    </tr>\n",
       "    <tr>\n",
       "      <th>75%</th>\n",
       "      <td>797.25</td>\n",
       "      <td>6191.25</td>\n",
       "      <td>43875.00</td>\n",
       "      <td>2012-01-12 00:00:00</td>\n",
       "      <td>3800.00</td>\n",
       "      <td>173441.25</td>\n",
       "      <td>172266.74</td>\n",
       "      <td>2012-01-14 00:00:00</td>\n",
       "    </tr>\n",
       "    <tr>\n",
       "      <th>max</th>\n",
       "      <td>1289.00</td>\n",
       "      <td>8391.00</td>\n",
       "      <td>59942.00</td>\n",
       "      <td>2012-12-30 00:00:00</td>\n",
       "      <td>5000.00</td>\n",
       "      <td>4134321.00</td>\n",
       "      <td>4128934.92</td>\n",
       "      <td>2012-12-30 00:00:00</td>\n",
       "    </tr>\n",
       "    <tr>\n",
       "      <th>std</th>\n",
       "      <td>340.82</td>\n",
       "      <td>2405.69</td>\n",
       "      <td>17119.18</td>\n",
       "      <td>NaN</td>\n",
       "      <td>1455.15</td>\n",
       "      <td>352211.54</td>\n",
       "      <td>352070.99</td>\n",
       "      <td>NaN</td>\n",
       "    </tr>\n",
       "  </tbody>\n",
       "</table>\n",
       "</div>"
      ],
      "text/plain": [
       "           SKU   Row ID  Order ID                     Order Date  Quantity  \\\n",
       "count  3076.00  3076.00   3076.00                           3076   3076.00   \n",
       "mean    530.22  4138.81  29526.97  2011-01-01 13:57:30.195058432   2552.57   \n",
       "min       1.00     2.00      6.00            2009-01-02 00:00:00    100.00   \n",
       "25%     242.00  2053.75  14662.00            2009-12-18 00:00:00   1300.00   \n",
       "50%     479.00  4141.50  29383.00            2010-12-26 00:00:00   2600.00   \n",
       "75%     797.25  6191.25  43875.00            2012-01-12 00:00:00   3800.00   \n",
       "max    1289.00  8391.00  59942.00            2012-12-30 00:00:00   5000.00   \n",
       "std     340.82  2405.69  17119.18                            NaN   1455.15   \n",
       "\n",
       "            Sales        COGS                  Shipping Date  \n",
       "count     3076.00     3076.00                           3076  \n",
       "mean    178768.04   178321.22  2011-01-03 15:43:18.179453952  \n",
       "min        224.00        5.68            2009-01-02 00:00:00  \n",
       "25%      14292.50    13229.17            2009-12-19 18:00:00  \n",
       "50%      43099.50    42640.05            2010-12-30 00:00:00  \n",
       "75%     173441.25   172266.74            2012-01-14 00:00:00  \n",
       "max    4134321.00  4128934.92            2012-12-30 00:00:00  \n",
       "std     352211.54   352070.99                            NaN  "
      ]
     },
     "execution_count": 114,
     "metadata": {},
     "output_type": "execute_result"
    }
   ],
   "source": [
    "round(dm_Corporate.describe(),2)"
   ]
  },
  {
   "cell_type": "code",
   "execution_count": 115,
   "id": "d631b309",
   "metadata": {},
   "outputs": [
    {
     "name": "stdout",
     "output_type": "stream",
     "text": [
      "-877891.7520503646 , 1234534.1848787132\n"
     ]
    }
   ],
   "source": [
    "# COGS dm_Corporate\n",
    "\n",
    "Corporate_cogs_mean = dm_Corporate['COGS'].mean()\n",
    "Corporate_cogs_std = dm_Corporate['COGS'].std()\n",
    "cut_off = Corporate_cogs_std * 3\n",
    "\n",
    "lower, upper = Corporate_cogs_mean - cut_off, Corporate_cogs_mean + cut_off\n",
    "print(lower,',', upper)"
   ]
  },
  {
   "cell_type": "code",
   "execution_count": 116,
   "id": "516ba011",
   "metadata": {},
   "outputs": [
    {
     "name": "stdout",
     "output_type": "stream",
     "text": [
      "5.6799999999993815\n"
     ]
    }
   ],
   "source": [
    "lower = min(dm_Corporate['COGS'])\n",
    "print(lower)"
   ]
  },
  {
   "cell_type": "code",
   "execution_count": 117,
   "id": "1e488b33",
   "metadata": {},
   "outputs": [],
   "source": [
    "dm_Corporate = dm_Corporate[(dm_Corporate['COGS'] < upper) &\n",
    "                                         (dm_Corporate['COGS'] > lower)]"
   ]
  },
  {
   "cell_type": "code",
   "execution_count": 118,
   "id": "6334426d",
   "metadata": {},
   "outputs": [
    {
     "data": {
      "image/png": "[encoded data removed]",
      "text/plain": [
       "<Figure size 640x480 with 1 Axes>"
      ]
     },
     "metadata": {},
     "output_type": "display_data"
    }
   ],
   "source": [
    "sns.boxplot(x = dm_Corporate['COGS'])\n",
    "plt.show()"
   ]
  },
  {
   "cell_type": "markdown",
   "id": "0366ec96",
   "metadata": {},
   "source": [
    "- Sales"
   ]
  },
  {
   "cell_type": "code",
   "execution_count": 119,
   "id": "a5eb7b82",
   "metadata": {},
   "outputs": [
    {
     "data": {
      "image/png": "[encoded data removed]",
      "text/plain": [
       "<Figure size 640x480 with 1 Axes>"
      ]
     },
     "metadata": {},
     "output_type": "display_data"
    }
   ],
   "source": [
    "# Sales dm_Corporate\n",
    "sns.boxplot(x = dm_Corporate['Sales'])\n",
    "plt.show()"
   ]
  },
  {
   "cell_type": "code",
   "execution_count": 120,
   "id": "64406ab5",
   "metadata": {},
   "outputs": [
    {
     "name": "stdout",
     "output_type": "stream",
     "text": [
      "-498155.8182557899 , 767479.6738966444\n"
     ]
    }
   ],
   "source": [
    "# Sales dm_Corporate\n",
    "\n",
    "Corporate_sales_mean = dm_Corporate['Sales'].mean()\n",
    "Corporate_sales_std = dm_Corporate['Sales'].std()\n",
    "cut_off = Corporate_sales_std * 3\n",
    "\n",
    "lower, upper = Corporate_sales_mean - cut_off, Corporate_sales_mean + cut_off\n",
    "print(lower,',', upper)"
   ]
  },
  {
   "cell_type": "code",
   "execution_count": 121,
   "id": "c20b1fdc",
   "metadata": {},
   "outputs": [
    {
     "name": "stdout",
     "output_type": "stream",
     "text": [
      "224.00000000000003\n"
     ]
    }
   ],
   "source": [
    "lower = min(dm_Corporate['Sales'])\n",
    "print(lower)"
   ]
  },
  {
   "cell_type": "code",
   "execution_count": 122,
   "id": "f3f279dc",
   "metadata": {},
   "outputs": [],
   "source": [
    "dm_Corporate = dm_Corporate[(dm_Corporate['Sales'] < upper) &\n",
    "                                         (dm_Corporate['Sales'] > lower)]"
   ]
  },
  {
   "cell_type": "code",
   "execution_count": 123,
   "id": "4a1e4b99",
   "metadata": {},
   "outputs": [
    {
     "data": {
      "image/png": "[encoded data removed]",
      "text/plain": [
       "<Figure size 640x480 with 1 Axes>"
      ]
     },
     "metadata": {},
     "output_type": "display_data"
    }
   ],
   "source": [
    "sns.boxplot(x = dm_Corporate['Sales'])\n",
    "plt.show()"
   ]
  },
  {
   "cell_type": "markdown",
   "id": "b97197c8",
   "metadata": {},
   "source": [
    "#### 3.4. Home Office"
   ]
  },
  {
   "cell_type": "markdown",
   "id": "788a3013",
   "metadata": {},
   "source": [
    "- COGS"
   ]
  },
  {
   "cell_type": "code",
   "execution_count": 124,
   "id": "1d1c502d",
   "metadata": {},
   "outputs": [
    {
     "data": {
      "image/png": "[encoded data removed]",
      "text/plain": [
       "<Figure size 640x480 with 1 Axes>"
      ]
     },
     "metadata": {},
     "output_type": "display_data"
    }
   ],
   "source": [
    "sns.boxplot(x = dm_Home_Office['COGS'])\n",
    "plt.show()"
   ]
  },
  {
   "cell_type": "code",
   "execution_count": 126,
   "id": "4411b421",
   "metadata": {},
   "outputs": [
    {
     "data": {
      "text/html": [
       "<div>\n",
       "<style scoped>\n",
       "    .dataframe tbody tr th:only-of-type {\n",
       "        vertical-align: middle;\n",
       "    }\n",
       "\n",
       "    .dataframe tbody tr th {\n",
       "        vertical-align: top;\n",
       "    }\n",
       "\n",
       "    .dataframe thead th {\n",
       "        text-align: right;\n",
       "    }\n",
       "</style>\n",
       "<table border=\"1\" class=\"dataframe\">\n",
       "  <thead>\n",
       "    <tr style=\"text-align: right;\">\n",
       "      <th></th>\n",
       "      <th>SKU</th>\n",
       "      <th>Row ID</th>\n",
       "      <th>Order ID</th>\n",
       "      <th>Order Date</th>\n",
       "      <th>Quantity</th>\n",
       "      <th>Sales</th>\n",
       "      <th>COGS</th>\n",
       "      <th>Shipping Date</th>\n",
       "    </tr>\n",
       "  </thead>\n",
       "  <tbody>\n",
       "    <tr>\n",
       "      <th>count</th>\n",
       "      <td>2032.00</td>\n",
       "      <td>2032.00</td>\n",
       "      <td>2032.00</td>\n",
       "      <td>2032</td>\n",
       "      <td>2032.00</td>\n",
       "      <td>2032.00</td>\n",
       "      <td>2032.00</td>\n",
       "      <td>2032</td>\n",
       "    </tr>\n",
       "    <tr>\n",
       "      <th>mean</th>\n",
       "      <td>557.91</td>\n",
       "      <td>4237.24</td>\n",
       "      <td>30227.66</td>\n",
       "      <td>2011-01-02 05:26:41.574802944</td>\n",
       "      <td>2598.77</td>\n",
       "      <td>175431.29</td>\n",
       "      <td>174647.73</td>\n",
       "      <td>2011-01-04 07:24:19.842519808</td>\n",
       "    </tr>\n",
       "    <tr>\n",
       "      <th>min</th>\n",
       "      <td>2.00</td>\n",
       "      <td>9.00</td>\n",
       "      <td>36.00</td>\n",
       "      <td>2009-01-01 00:00:00</td>\n",
       "      <td>100.00</td>\n",
       "      <td>377.00</td>\n",
       "      <td>65.35</td>\n",
       "      <td>2009-01-03 00:00:00</td>\n",
       "    </tr>\n",
       "    <tr>\n",
       "      <th>25%</th>\n",
       "      <td>263.00</td>\n",
       "      <td>2149.75</td>\n",
       "      <td>15397.00</td>\n",
       "      <td>2010-01-04 00:00:00</td>\n",
       "      <td>1300.00</td>\n",
       "      <td>15432.25</td>\n",
       "      <td>14419.09</td>\n",
       "      <td>2010-01-05 00:00:00</td>\n",
       "    </tr>\n",
       "    <tr>\n",
       "      <th>50%</th>\n",
       "      <td>535.00</td>\n",
       "      <td>4246.50</td>\n",
       "      <td>30214.50</td>\n",
       "      <td>2010-12-29 00:00:00</td>\n",
       "      <td>2600.00</td>\n",
       "      <td>47433.65</td>\n",
       "      <td>45939.67</td>\n",
       "      <td>2011-01-02 00:00:00</td>\n",
       "    </tr>\n",
       "    <tr>\n",
       "      <th>75%</th>\n",
       "      <td>840.00</td>\n",
       "      <td>6357.50</td>\n",
       "      <td>45097.25</td>\n",
       "      <td>2012-01-06 00:00:00</td>\n",
       "      <td>3900.00</td>\n",
       "      <td>173582.50</td>\n",
       "      <td>175090.79</td>\n",
       "      <td>2012-01-08 00:00:00</td>\n",
       "    </tr>\n",
       "    <tr>\n",
       "      <th>max</th>\n",
       "      <td>1286.00</td>\n",
       "      <td>8397.00</td>\n",
       "      <td>59971.00</td>\n",
       "      <td>2012-12-30 00:00:00</td>\n",
       "      <td>5000.00</td>\n",
       "      <td>4592376.00</td>\n",
       "      <td>4604164.20</td>\n",
       "      <td>2012-12-30 00:00:00</td>\n",
       "    </tr>\n",
       "    <tr>\n",
       "      <th>std</th>\n",
       "      <td>346.08</td>\n",
       "      <td>2406.70</td>\n",
       "      <td>17134.96</td>\n",
       "      <td>NaN</td>\n",
       "      <td>1456.19</td>\n",
       "      <td>339500.19</td>\n",
       "      <td>339249.19</td>\n",
       "      <td>NaN</td>\n",
       "    </tr>\n",
       "  </tbody>\n",
       "</table>\n",
       "</div>"
      ],
      "text/plain": [
       "           SKU   Row ID  Order ID                     Order Date  Quantity  \\\n",
       "count  2032.00  2032.00   2032.00                           2032   2032.00   \n",
       "mean    557.91  4237.24  30227.66  2011-01-02 05:26:41.574802944   2598.77   \n",
       "min       2.00     9.00     36.00            2009-01-01 00:00:00    100.00   \n",
       "25%     263.00  2149.75  15397.00            2010-01-04 00:00:00   1300.00   \n",
       "50%     535.00  4246.50  30214.50            2010-12-29 00:00:00   2600.00   \n",
       "75%     840.00  6357.50  45097.25            2012-01-06 00:00:00   3900.00   \n",
       "max    1286.00  8397.00  59971.00            2012-12-30 00:00:00   5000.00   \n",
       "std     346.08  2406.70  17134.96                            NaN   1456.19   \n",
       "\n",
       "            Sales        COGS                  Shipping Date  \n",
       "count     2032.00     2032.00                           2032  \n",
       "mean    175431.29   174647.73  2011-01-04 07:24:19.842519808  \n",
       "min        377.00       65.35            2009-01-03 00:00:00  \n",
       "25%      15432.25    14419.09            2010-01-05 00:00:00  \n",
       "50%      47433.65    45939.67            2011-01-02 00:00:00  \n",
       "75%     173582.50   175090.79            2012-01-08 00:00:00  \n",
       "max    4592376.00  4604164.20            2012-12-30 00:00:00  \n",
       "std     339500.19   339249.19                            NaN  "
      ]
     },
     "execution_count": 126,
     "metadata": {},
     "output_type": "execute_result"
    }
   ],
   "source": [
    "round(dm_Home_Office.describe(),2)"
   ]
  },
  {
   "cell_type": "code",
   "execution_count": 125,
   "id": "4753cbcd",
   "metadata": {},
   "outputs": [
    {
     "name": "stdout",
     "output_type": "stream",
     "text": [
      "-843099.8306408366 , 1192395.2866250887\n"
     ]
    }
   ],
   "source": [
    "# COGS dm_Home_Office\n",
    "\n",
    "Home_Office_cogs_mean = dm_Home_Office['COGS'].mean()\n",
    "Home_Office_cogs_std = dm_Home_Office['COGS'].std()\n",
    "cut_off = Home_Office_cogs_std * 3\n",
    "\n",
    "lower, upper = Home_Office_cogs_mean - cut_off, Home_Office_cogs_mean + cut_off\n",
    "print(lower,',', upper)"
   ]
  },
  {
   "cell_type": "code",
   "execution_count": 127,
   "id": "7b0cc50d",
   "metadata": {},
   "outputs": [
    {
     "name": "stdout",
     "output_type": "stream",
     "text": [
      "65.35000000000036\n"
     ]
    }
   ],
   "source": [
    "lower = min(dm_Home_Office['COGS'])\n",
    "print(lower)"
   ]
  },
  {
   "cell_type": "code",
   "execution_count": 128,
   "id": "383f9500",
   "metadata": {},
   "outputs": [],
   "source": [
    "dm_Home_Office = dm_Home_Office[(dm_Home_Office['COGS'] < upper) &\n",
    "                                         (dm_Home_Office['COGS'] > lower)]"
   ]
  },
  {
   "cell_type": "code",
   "execution_count": 129,
   "id": "01701f65",
   "metadata": {},
   "outputs": [
    {
     "data": {
      "image/png": "[encoded data removed]",
      "text/plain": [
       "<Figure size 640x480 with 1 Axes>"
      ]
     },
     "metadata": {},
     "output_type": "display_data"
    }
   ],
   "source": [
    "sns.boxplot(x = dm_Home_Office['COGS'])\n",
    "plt.show()"
   ]
  },
  {
   "cell_type": "markdown",
   "id": "1c390279",
   "metadata": {},
   "source": [
    "- Sales"
   ]
  },
  {
   "cell_type": "code",
   "execution_count": 130,
   "id": "ef8a399a",
   "metadata": {},
   "outputs": [
    {
     "data": {
      "image/png": "[encoded data removed]",
      "text/plain": [
       "<Figure size 640x480 with 1 Axes>"
      ]
     },
     "metadata": {},
     "output_type": "display_data"
    }
   ],
   "source": [
    "sns.boxplot(x = dm_Home_Office['Sales'])\n",
    "plt.show()"
   ]
  },
  {
   "cell_type": "code",
   "execution_count": 131,
   "id": "ddec6d07",
   "metadata": {},
   "outputs": [
    {
     "name": "stdout",
     "output_type": "stream",
     "text": [
      "-479767.7425350789 , 750882.3232616177\n"
     ]
    }
   ],
   "source": [
    "# Sales dm_Home_Office\n",
    "\n",
    "Home_Office_sales_mean = dm_Home_Office['Sales'].mean()\n",
    "Home_Office_sales_std = dm_Home_Office['Sales'].std()\n",
    "cut_off = Home_Office_sales_std * 3\n",
    "\n",
    "lower, upper = Home_Office_sales_mean - cut_off, Home_Office_sales_mean + cut_off\n",
    "print(lower,',', upper)"
   ]
  },
  {
   "cell_type": "code",
   "execution_count": 132,
   "id": "42e790e1",
   "metadata": {},
   "outputs": [
    {
     "name": "stdout",
     "output_type": "stream",
     "text": [
      "377.0\n"
     ]
    }
   ],
   "source": [
    "lower = min(dm_Home_Office['Sales'])\n",
    "print(lower)"
   ]
  },
  {
   "cell_type": "code",
   "execution_count": 133,
   "id": "e2def84e",
   "metadata": {},
   "outputs": [],
   "source": [
    "dm_Home_Office = dm_Home_Office[(dm_Home_Office['Sales'] < upper) &\n",
    "                                         (dm_Home_Office['Sales'] > lower)]"
   ]
  },
  {
   "cell_type": "code",
   "execution_count": 134,
   "id": "52c2f9f0",
   "metadata": {},
   "outputs": [
    {
     "data": {
      "image/png": "[encoded data removed]",
      "text/plain": [
       "<Figure size 640x480 with 1 Axes>"
      ]
     },
     "metadata": {},
     "output_type": "display_data"
    }
   ],
   "source": [
    "sns.boxplot(x = dm_Home_Office['Sales'])\n",
    "plt.show()"
   ]
  },
  {
   "cell_type": "markdown",
   "id": "9f940c6c",
   "metadata": {},
   "source": [
    "### 4. Concating Dataframe"
   ]
  },
  {
   "cell_type": "code",
   "execution_count": 135,
   "id": "f66e0c4b",
   "metadata": {},
   "outputs": [
    {
     "data": {
      "text/html": [
       "<div>\n",
       "<style scoped>\n",
       "    .dataframe tbody tr th:only-of-type {\n",
       "        vertical-align: middle;\n",
       "    }\n",
       "\n",
       "    .dataframe tbody tr th {\n",
       "        vertical-align: top;\n",
       "    }\n",
       "\n",
       "    .dataframe thead th {\n",
       "        text-align: right;\n",
       "    }\n",
       "</style>\n",
       "<table border=\"1\" class=\"dataframe\">\n",
       "  <thead>\n",
       "    <tr style=\"text-align: right;\">\n",
       "      <th></th>\n",
       "      <th>SKU</th>\n",
       "      <th>Row ID</th>\n",
       "      <th>Order ID</th>\n",
       "      <th>Order Date</th>\n",
       "      <th>Quantity</th>\n",
       "      <th>Sales</th>\n",
       "      <th>COGS</th>\n",
       "      <th>Shipping Date</th>\n",
       "    </tr>\n",
       "  </thead>\n",
       "  <tbody>\n",
       "    <tr>\n",
       "      <th>count</th>\n",
       "      <td>1558.00</td>\n",
       "      <td>1558.00</td>\n",
       "      <td>1558.00</td>\n",
       "      <td>1558</td>\n",
       "      <td>1558.00</td>\n",
       "      <td>1558.00</td>\n",
       "      <td>1558.00</td>\n",
       "      <td>1558</td>\n",
       "    </tr>\n",
       "    <tr>\n",
       "      <th>mean</th>\n",
       "      <td>537.07</td>\n",
       "      <td>4315.33</td>\n",
       "      <td>30791.86</td>\n",
       "      <td>2010-12-22 10:42:21.720153856</td>\n",
       "      <td>2487.68</td>\n",
       "      <td>108037.95</td>\n",
       "      <td>107958.57</td>\n",
       "      <td>2010-12-24 09:31:11.630295296</td>\n",
       "    </tr>\n",
       "    <tr>\n",
       "      <th>min</th>\n",
       "      <td>1.00</td>\n",
       "      <td>1.00</td>\n",
       "      <td>3.00</td>\n",
       "      <td>2009-01-01 00:00:00</td>\n",
       "      <td>100.00</td>\n",
       "      <td>396.00</td>\n",
       "      <td>78.72</td>\n",
       "      <td>2009-01-02 00:00:00</td>\n",
       "    </tr>\n",
       "    <tr>\n",
       "      <th>25%</th>\n",
       "      <td>248.25</td>\n",
       "      <td>2213.25</td>\n",
       "      <td>15972.00</td>\n",
       "      <td>2009-12-29 18:00:00</td>\n",
       "      <td>1300.00</td>\n",
       "      <td>12670.25</td>\n",
       "      <td>11660.40</td>\n",
       "      <td>2010-01-03 00:00:00</td>\n",
       "    </tr>\n",
       "    <tr>\n",
       "      <th>50%</th>\n",
       "      <td>501.00</td>\n",
       "      <td>4460.00</td>\n",
       "      <td>31794.50</td>\n",
       "      <td>2010-12-03 00:00:00</td>\n",
       "      <td>2400.00</td>\n",
       "      <td>38766.00</td>\n",
       "      <td>38577.73</td>\n",
       "      <td>2010-12-04 12:00:00</td>\n",
       "    </tr>\n",
       "    <tr>\n",
       "      <th>75%</th>\n",
       "      <td>814.75</td>\n",
       "      <td>6396.25</td>\n",
       "      <td>45405.00</td>\n",
       "      <td>2011-12-26 18:00:00</td>\n",
       "      <td>3700.00</td>\n",
       "      <td>140948.00</td>\n",
       "      <td>140395.36</td>\n",
       "      <td>2011-12-27 18:00:00</td>\n",
       "    </tr>\n",
       "    <tr>\n",
       "      <th>max</th>\n",
       "      <td>1284.00</td>\n",
       "      <td>8399.00</td>\n",
       "      <td>59973.00</td>\n",
       "      <td>2012-12-30 00:00:00</td>\n",
       "      <td>5000.00</td>\n",
       "      <td>715716.00</td>\n",
       "      <td>714593.76</td>\n",
       "      <td>2012-12-30 00:00:00</td>\n",
       "    </tr>\n",
       "    <tr>\n",
       "      <th>std</th>\n",
       "      <td>341.65</td>\n",
       "      <td>2425.20</td>\n",
       "      <td>17269.48</td>\n",
       "      <td>NaN</td>\n",
       "      <td>1442.96</td>\n",
       "      <td>152053.63</td>\n",
       "      <td>152251.79</td>\n",
       "      <td>NaN</td>\n",
       "    </tr>\n",
       "  </tbody>\n",
       "</table>\n",
       "</div>"
      ],
      "text/plain": [
       "           SKU   Row ID  Order ID                     Order Date  Quantity  \\\n",
       "count  1558.00  1558.00   1558.00                           1558   1558.00   \n",
       "mean    537.07  4315.33  30791.86  2010-12-22 10:42:21.720153856   2487.68   \n",
       "min       1.00     1.00      3.00            2009-01-01 00:00:00    100.00   \n",
       "25%     248.25  2213.25  15972.00            2009-12-29 18:00:00   1300.00   \n",
       "50%     501.00  4460.00  31794.50            2010-12-03 00:00:00   2400.00   \n",
       "75%     814.75  6396.25  45405.00            2011-12-26 18:00:00   3700.00   \n",
       "max    1284.00  8399.00  59973.00            2012-12-30 00:00:00   5000.00   \n",
       "std     341.65  2425.20  17269.48                            NaN   1442.96   \n",
       "\n",
       "           Sales       COGS                  Shipping Date  \n",
       "count    1558.00    1558.00                           1558  \n",
       "mean   108037.95  107958.57  2010-12-24 09:31:11.630295296  \n",
       "min       396.00      78.72            2009-01-02 00:00:00  \n",
       "25%     12670.25   11660.40            2010-01-03 00:00:00  \n",
       "50%     38766.00   38577.73            2010-12-04 12:00:00  \n",
       "75%    140948.00  140395.36            2011-12-27 18:00:00  \n",
       "max    715716.00  714593.76            2012-12-30 00:00:00  \n",
       "std    152053.63  152251.79                            NaN  "
      ]
     },
     "execution_count": 135,
     "metadata": {},
     "output_type": "execute_result"
    }
   ],
   "source": [
    "round(dm_SMEs.describe(),2)"
   ]
  },
  {
   "cell_type": "code",
   "execution_count": 136,
   "id": "c57cc24b",
   "metadata": {},
   "outputs": [
    {
     "data": {
      "text/html": [
       "<div>\n",
       "<style scoped>\n",
       "    .dataframe tbody tr th:only-of-type {\n",
       "        vertical-align: middle;\n",
       "    }\n",
       "\n",
       "    .dataframe tbody tr th {\n",
       "        vertical-align: top;\n",
       "    }\n",
       "\n",
       "    .dataframe thead th {\n",
       "        text-align: right;\n",
       "    }\n",
       "</style>\n",
       "<table border=\"1\" class=\"dataframe\">\n",
       "  <thead>\n",
       "    <tr style=\"text-align: right;\">\n",
       "      <th></th>\n",
       "      <th>SKU</th>\n",
       "      <th>Row ID</th>\n",
       "      <th>Order ID</th>\n",
       "      <th>Order Date</th>\n",
       "      <th>Quantity</th>\n",
       "      <th>Sales</th>\n",
       "      <th>COGS</th>\n",
       "      <th>Shipping Date</th>\n",
       "    </tr>\n",
       "  </thead>\n",
       "  <tbody>\n",
       "    <tr>\n",
       "      <th>count</th>\n",
       "      <td>1557.00</td>\n",
       "      <td>1557.00</td>\n",
       "      <td>1557.00</td>\n",
       "      <td>1557</td>\n",
       "      <td>1557.00</td>\n",
       "      <td>1557.00</td>\n",
       "      <td>1557.00</td>\n",
       "      <td>1557</td>\n",
       "    </tr>\n",
       "    <tr>\n",
       "      <th>mean</th>\n",
       "      <td>549.38</td>\n",
       "      <td>4142.41</td>\n",
       "      <td>29558.83</td>\n",
       "      <td>2010-12-03 00:40:41.618497024</td>\n",
       "      <td>2496.85</td>\n",
       "      <td>110839.40</td>\n",
       "      <td>110626.12</td>\n",
       "      <td>2010-12-05 00:09:14.913294848</td>\n",
       "    </tr>\n",
       "    <tr>\n",
       "      <th>min</th>\n",
       "      <td>1.00</td>\n",
       "      <td>11.00</td>\n",
       "      <td>66.00</td>\n",
       "      <td>2009-01-02 00:00:00</td>\n",
       "      <td>100.00</td>\n",
       "      <td>570.00</td>\n",
       "      <td>13.04</td>\n",
       "      <td>2009-01-02 00:00:00</td>\n",
       "    </tr>\n",
       "    <tr>\n",
       "      <th>25%</th>\n",
       "      <td>242.00</td>\n",
       "      <td>1977.00</td>\n",
       "      <td>14115.00</td>\n",
       "      <td>2009-12-12 00:00:00</td>\n",
       "      <td>1300.00</td>\n",
       "      <td>13641.00</td>\n",
       "      <td>12385.04</td>\n",
       "      <td>2009-12-14 00:00:00</td>\n",
       "    </tr>\n",
       "    <tr>\n",
       "      <th>50%</th>\n",
       "      <td>527.00</td>\n",
       "      <td>4066.00</td>\n",
       "      <td>28934.00</td>\n",
       "      <td>2010-11-17 00:00:00</td>\n",
       "      <td>2500.00</td>\n",
       "      <td>41262.00</td>\n",
       "      <td>40226.84</td>\n",
       "      <td>2010-11-20 00:00:00</td>\n",
       "    </tr>\n",
       "    <tr>\n",
       "      <th>75%</th>\n",
       "      <td>822.00</td>\n",
       "      <td>6372.00</td>\n",
       "      <td>45217.00</td>\n",
       "      <td>2011-11-27 00:00:00</td>\n",
       "      <td>3700.00</td>\n",
       "      <td>131265.00</td>\n",
       "      <td>134506.82</td>\n",
       "      <td>2011-11-29 00:00:00</td>\n",
       "    </tr>\n",
       "    <tr>\n",
       "      <th>max</th>\n",
       "      <td>1288.00</td>\n",
       "      <td>8378.00</td>\n",
       "      <td>59845.00</td>\n",
       "      <td>2012-12-30 00:00:00</td>\n",
       "      <td>5000.00</td>\n",
       "      <td>821659.30</td>\n",
       "      <td>823825.60</td>\n",
       "      <td>2012-12-30 00:00:00</td>\n",
       "    </tr>\n",
       "    <tr>\n",
       "      <th>std</th>\n",
       "      <td>344.43</td>\n",
       "      <td>2475.94</td>\n",
       "      <td>17627.26</td>\n",
       "      <td>NaN</td>\n",
       "      <td>1421.88</td>\n",
       "      <td>159046.24</td>\n",
       "      <td>159766.59</td>\n",
       "      <td>NaN</td>\n",
       "    </tr>\n",
       "  </tbody>\n",
       "</table>\n",
       "</div>"
      ],
      "text/plain": [
       "           SKU   Row ID  Order ID                     Order Date  Quantity  \\\n",
       "count  1557.00  1557.00   1557.00                           1557   1557.00   \n",
       "mean    549.38  4142.41  29558.83  2010-12-03 00:40:41.618497024   2496.85   \n",
       "min       1.00    11.00     66.00            2009-01-02 00:00:00    100.00   \n",
       "25%     242.00  1977.00  14115.00            2009-12-12 00:00:00   1300.00   \n",
       "50%     527.00  4066.00  28934.00            2010-11-17 00:00:00   2500.00   \n",
       "75%     822.00  6372.00  45217.00            2011-11-27 00:00:00   3700.00   \n",
       "max    1288.00  8378.00  59845.00            2012-12-30 00:00:00   5000.00   \n",
       "std     344.43  2475.94  17627.26                            NaN   1421.88   \n",
       "\n",
       "           Sales       COGS                  Shipping Date  \n",
       "count    1557.00    1557.00                           1557  \n",
       "mean   110839.40  110626.12  2010-12-05 00:09:14.913294848  \n",
       "min       570.00      13.04            2009-01-02 00:00:00  \n",
       "25%     13641.00   12385.04            2009-12-14 00:00:00  \n",
       "50%     41262.00   40226.84            2010-11-20 00:00:00  \n",
       "75%    131265.00  134506.82            2011-11-29 00:00:00  \n",
       "max    821659.30  823825.60            2012-12-30 00:00:00  \n",
       "std    159046.24  159766.59                            NaN  "
      ]
     },
     "execution_count": 136,
     "metadata": {},
     "output_type": "execute_result"
    }
   ],
   "source": [
    "round(dm_Consumer.describe(),2)"
   ]
  },
  {
   "cell_type": "code",
   "execution_count": 137,
   "id": "bbea9f67",
   "metadata": {},
   "outputs": [
    {
     "data": {
      "text/html": [
       "<div>\n",
       "<style scoped>\n",
       "    .dataframe tbody tr th:only-of-type {\n",
       "        vertical-align: middle;\n",
       "    }\n",
       "\n",
       "    .dataframe tbody tr th {\n",
       "        vertical-align: top;\n",
       "    }\n",
       "\n",
       "    .dataframe thead th {\n",
       "        text-align: right;\n",
       "    }\n",
       "</style>\n",
       "<table border=\"1\" class=\"dataframe\">\n",
       "  <thead>\n",
       "    <tr style=\"text-align: right;\">\n",
       "      <th></th>\n",
       "      <th>SKU</th>\n",
       "      <th>Row ID</th>\n",
       "      <th>Order ID</th>\n",
       "      <th>Order Date</th>\n",
       "      <th>Quantity</th>\n",
       "      <th>Sales</th>\n",
       "      <th>COGS</th>\n",
       "      <th>Shipping Date</th>\n",
       "    </tr>\n",
       "  </thead>\n",
       "  <tbody>\n",
       "    <tr>\n",
       "      <th>count</th>\n",
       "      <td>2909.00</td>\n",
       "      <td>2909.00</td>\n",
       "      <td>2909.00</td>\n",
       "      <td>2909</td>\n",
       "      <td>2909.00</td>\n",
       "      <td>2909.00</td>\n",
       "      <td>2909.00</td>\n",
       "      <td>2909</td>\n",
       "    </tr>\n",
       "    <tr>\n",
       "      <th>mean</th>\n",
       "      <td>529.19</td>\n",
       "      <td>4130.03</td>\n",
       "      <td>29465.28</td>\n",
       "      <td>2011-01-02 05:55:25.266414592</td>\n",
       "      <td>2495.94</td>\n",
       "      <td>110513.47</td>\n",
       "      <td>110078.54</td>\n",
       "      <td>2011-01-04 07:37:23.657614336</td>\n",
       "    </tr>\n",
       "    <tr>\n",
       "      <th>min</th>\n",
       "      <td>1.00</td>\n",
       "      <td>2.00</td>\n",
       "      <td>6.00</td>\n",
       "      <td>2009-01-02 00:00:00</td>\n",
       "      <td>100.00</td>\n",
       "      <td>323.00</td>\n",
       "      <td>8.99</td>\n",
       "      <td>2009-01-02 00:00:00</td>\n",
       "    </tr>\n",
       "    <tr>\n",
       "      <th>25%</th>\n",
       "      <td>243.00</td>\n",
       "      <td>2044.00</td>\n",
       "      <td>14563.00</td>\n",
       "      <td>2009-12-21 00:00:00</td>\n",
       "      <td>1200.00</td>\n",
       "      <td>13624.00</td>\n",
       "      <td>12443.90</td>\n",
       "      <td>2009-12-23 00:00:00</td>\n",
       "    </tr>\n",
       "    <tr>\n",
       "      <th>50%</th>\n",
       "      <td>480.00</td>\n",
       "      <td>4139.00</td>\n",
       "      <td>29383.00</td>\n",
       "      <td>2010-12-28 00:00:00</td>\n",
       "      <td>2500.00</td>\n",
       "      <td>36711.00</td>\n",
       "      <td>36384.32</td>\n",
       "      <td>2010-12-30 00:00:00</td>\n",
       "    </tr>\n",
       "    <tr>\n",
       "      <th>75%</th>\n",
       "      <td>796.00</td>\n",
       "      <td>6182.00</td>\n",
       "      <td>43814.00</td>\n",
       "      <td>2012-01-12 00:00:00</td>\n",
       "      <td>3700.00</td>\n",
       "      <td>138188.00</td>\n",
       "      <td>137347.56</td>\n",
       "      <td>2012-01-14 00:00:00</td>\n",
       "    </tr>\n",
       "    <tr>\n",
       "      <th>max</th>\n",
       "      <td>1289.00</td>\n",
       "      <td>8391.00</td>\n",
       "      <td>59942.00</td>\n",
       "      <td>2012-12-30 00:00:00</td>\n",
       "      <td>5000.00</td>\n",
       "      <td>766604.00</td>\n",
       "      <td>766281.86</td>\n",
       "      <td>2012-12-30 00:00:00</td>\n",
       "    </tr>\n",
       "    <tr>\n",
       "      <th>std</th>\n",
       "      <td>339.59</td>\n",
       "      <td>2410.76</td>\n",
       "      <td>17155.30</td>\n",
       "      <td>NaN</td>\n",
       "      <td>1447.17</td>\n",
       "      <td>158012.17</td>\n",
       "      <td>157905.48</td>\n",
       "      <td>NaN</td>\n",
       "    </tr>\n",
       "  </tbody>\n",
       "</table>\n",
       "</div>"
      ],
      "text/plain": [
       "           SKU   Row ID  Order ID                     Order Date  Quantity  \\\n",
       "count  2909.00  2909.00   2909.00                           2909   2909.00   \n",
       "mean    529.19  4130.03  29465.28  2011-01-02 05:55:25.266414592   2495.94   \n",
       "min       1.00     2.00      6.00            2009-01-02 00:00:00    100.00   \n",
       "25%     243.00  2044.00  14563.00            2009-12-21 00:00:00   1200.00   \n",
       "50%     480.00  4139.00  29383.00            2010-12-28 00:00:00   2500.00   \n",
       "75%     796.00  6182.00  43814.00            2012-01-12 00:00:00   3700.00   \n",
       "max    1289.00  8391.00  59942.00            2012-12-30 00:00:00   5000.00   \n",
       "std     339.59  2410.76  17155.30                            NaN   1447.17   \n",
       "\n",
       "           Sales       COGS                  Shipping Date  \n",
       "count    2909.00    2909.00                           2909  \n",
       "mean   110513.47  110078.54  2011-01-04 07:37:23.657614336  \n",
       "min       323.00       8.99            2009-01-02 00:00:00  \n",
       "25%     13624.00   12443.90            2009-12-23 00:00:00  \n",
       "50%     36711.00   36384.32            2010-12-30 00:00:00  \n",
       "75%    138188.00  137347.56            2012-01-14 00:00:00  \n",
       "max    766604.00  766281.86            2012-12-30 00:00:00  \n",
       "std    158012.17  157905.48                            NaN  "
      ]
     },
     "execution_count": 137,
     "metadata": {},
     "output_type": "execute_result"
    }
   ],
   "source": [
    "round(dm_Corporate.describe(),2)"
   ]
  },
  {
   "cell_type": "code",
   "execution_count": 138,
   "id": "a0325741",
   "metadata": {},
   "outputs": [
    {
     "data": {
      "text/html": [
       "<div>\n",
       "<style scoped>\n",
       "    .dataframe tbody tr th:only-of-type {\n",
       "        vertical-align: middle;\n",
       "    }\n",
       "\n",
       "    .dataframe tbody tr th {\n",
       "        vertical-align: top;\n",
       "    }\n",
       "\n",
       "    .dataframe thead th {\n",
       "        text-align: right;\n",
       "    }\n",
       "</style>\n",
       "<table border=\"1\" class=\"dataframe\">\n",
       "  <thead>\n",
       "    <tr style=\"text-align: right;\">\n",
       "      <th></th>\n",
       "      <th>SKU</th>\n",
       "      <th>Row ID</th>\n",
       "      <th>Order ID</th>\n",
       "      <th>Order Date</th>\n",
       "      <th>Quantity</th>\n",
       "      <th>Sales</th>\n",
       "      <th>COGS</th>\n",
       "      <th>Shipping Date</th>\n",
       "    </tr>\n",
       "  </thead>\n",
       "  <tbody>\n",
       "    <tr>\n",
       "      <th>count</th>\n",
       "      <td>1922.00</td>\n",
       "      <td>1922.00</td>\n",
       "      <td>1922.00</td>\n",
       "      <td>1922</td>\n",
       "      <td>1922.00</td>\n",
       "      <td>1922.00</td>\n",
       "      <td>1922.00</td>\n",
       "      <td>1922</td>\n",
       "    </tr>\n",
       "    <tr>\n",
       "      <th>mean</th>\n",
       "      <td>557.01</td>\n",
       "      <td>4246.37</td>\n",
       "      <td>30292.83</td>\n",
       "      <td>2011-01-07 05:42:23.600416256</td>\n",
       "      <td>2550.05</td>\n",
       "      <td>111723.72</td>\n",
       "      <td>111033.33</td>\n",
       "      <td>2011-01-09 07:25:02.185223680</td>\n",
       "    </tr>\n",
       "    <tr>\n",
       "      <th>min</th>\n",
       "      <td>2.00</td>\n",
       "      <td>9.00</td>\n",
       "      <td>36.00</td>\n",
       "      <td>2009-01-01 00:00:00</td>\n",
       "      <td>100.00</td>\n",
       "      <td>563.00</td>\n",
       "      <td>94.72</td>\n",
       "      <td>2009-01-03 00:00:00</td>\n",
       "    </tr>\n",
       "    <tr>\n",
       "      <th>25%</th>\n",
       "      <td>265.50</td>\n",
       "      <td>2151.00</td>\n",
       "      <td>15404.00</td>\n",
       "      <td>2010-01-07 00:00:00</td>\n",
       "      <td>1300.00</td>\n",
       "      <td>14523.25</td>\n",
       "      <td>13737.04</td>\n",
       "      <td>2010-01-08 00:00:00</td>\n",
       "    </tr>\n",
       "    <tr>\n",
       "      <th>50%</th>\n",
       "      <td>535.00</td>\n",
       "      <td>4256.00</td>\n",
       "      <td>30309.50</td>\n",
       "      <td>2011-01-09 12:00:00</td>\n",
       "      <td>2500.00</td>\n",
       "      <td>41395.50</td>\n",
       "      <td>41058.95</td>\n",
       "      <td>2011-01-12 12:00:00</td>\n",
       "    </tr>\n",
       "    <tr>\n",
       "      <th>75%</th>\n",
       "      <td>835.00</td>\n",
       "      <td>6363.00</td>\n",
       "      <td>45148.25</td>\n",
       "      <td>2012-01-11 00:00:00</td>\n",
       "      <td>3800.00</td>\n",
       "      <td>141080.75</td>\n",
       "      <td>140167.04</td>\n",
       "      <td>2012-01-13 00:00:00</td>\n",
       "    </tr>\n",
       "    <tr>\n",
       "      <th>max</th>\n",
       "      <td>1286.00</td>\n",
       "      <td>8397.00</td>\n",
       "      <td>59971.00</td>\n",
       "      <td>2012-12-30 00:00:00</td>\n",
       "      <td>5000.00</td>\n",
       "      <td>740649.00</td>\n",
       "      <td>739459.50</td>\n",
       "      <td>2012-12-30 00:00:00</td>\n",
       "    </tr>\n",
       "    <tr>\n",
       "      <th>std</th>\n",
       "      <td>344.56</td>\n",
       "      <td>2406.60</td>\n",
       "      <td>17134.69</td>\n",
       "      <td>NaN</td>\n",
       "      <td>1450.60</td>\n",
       "      <td>153907.77</td>\n",
       "      <td>154115.20</td>\n",
       "      <td>NaN</td>\n",
       "    </tr>\n",
       "  </tbody>\n",
       "</table>\n",
       "</div>"
      ],
      "text/plain": [
       "           SKU   Row ID  Order ID                     Order Date  Quantity  \\\n",
       "count  1922.00  1922.00   1922.00                           1922   1922.00   \n",
       "mean    557.01  4246.37  30292.83  2011-01-07 05:42:23.600416256   2550.05   \n",
       "min       2.00     9.00     36.00            2009-01-01 00:00:00    100.00   \n",
       "25%     265.50  2151.00  15404.00            2010-01-07 00:00:00   1300.00   \n",
       "50%     535.00  4256.00  30309.50            2011-01-09 12:00:00   2500.00   \n",
       "75%     835.00  6363.00  45148.25            2012-01-11 00:00:00   3800.00   \n",
       "max    1286.00  8397.00  59971.00            2012-12-30 00:00:00   5000.00   \n",
       "std     344.56  2406.60  17134.69                            NaN   1450.60   \n",
       "\n",
       "           Sales       COGS                  Shipping Date  \n",
       "count    1922.00    1922.00                           1922  \n",
       "mean   111723.72  111033.33  2011-01-09 07:25:02.185223680  \n",
       "min       563.00      94.72            2009-01-03 00:00:00  \n",
       "25%     14523.25   13737.04            2010-01-08 00:00:00  \n",
       "50%     41395.50   41058.95            2011-01-12 12:00:00  \n",
       "75%    141080.75  140167.04            2012-01-13 00:00:00  \n",
       "max    740649.00  739459.50            2012-12-30 00:00:00  \n",
       "std    153907.77  154115.20                            NaN  "
      ]
     },
     "execution_count": 138,
     "metadata": {},
     "output_type": "execute_result"
    }
   ],
   "source": [
    "round(dm_Home_Office.describe(),2)"
   ]
  },
  {
   "cell_type": "code",
   "execution_count": 139,
   "id": "672fb4ad",
   "metadata": {},
   "outputs": [
    {
     "data": {
      "text/html": [
       "<div>\n",
       "<style scoped>\n",
       "    .dataframe tbody tr th:only-of-type {\n",
       "        vertical-align: middle;\n",
       "    }\n",
       "\n",
       "    .dataframe tbody tr th {\n",
       "        vertical-align: top;\n",
       "    }\n",
       "\n",
       "    .dataframe thead th {\n",
       "        text-align: right;\n",
       "    }\n",
       "</style>\n",
       "<table border=\"1\" class=\"dataframe\">\n",
       "  <thead>\n",
       "    <tr style=\"text-align: right;\">\n",
       "      <th></th>\n",
       "      <th>SKU</th>\n",
       "      <th>Row ID</th>\n",
       "      <th>Order ID</th>\n",
       "      <th>Order Date</th>\n",
       "      <th>Priority</th>\n",
       "      <th>Quantity</th>\n",
       "      <th>Sales</th>\n",
       "      <th>COGS</th>\n",
       "      <th>Shipping Type</th>\n",
       "      <th>Customer Name</th>\n",
       "      <th>Branch</th>\n",
       "      <th>Customer Segment</th>\n",
       "      <th>Shipping Date</th>\n",
       "    </tr>\n",
       "  </thead>\n",
       "  <tbody>\n",
       "    <tr>\n",
       "      <th>0</th>\n",
       "      <td>1</td>\n",
       "      <td>1</td>\n",
       "      <td>3</td>\n",
       "      <td>2010-10-13</td>\n",
       "      <td>Low</td>\n",
       "      <td>600</td>\n",
       "      <td>26154.0</td>\n",
       "      <td>21962.64</td>\n",
       "      <td>Regular Air</td>\n",
       "      <td>Muhammed MacIntyre</td>\n",
       "      <td>Richmond</td>\n",
       "      <td>SMEs</td>\n",
       "      <td>2010-10-20</td>\n",
       "    </tr>\n",
       "    <tr>\n",
       "      <th>14</th>\n",
       "      <td>14</td>\n",
       "      <td>149</td>\n",
       "      <td>933</td>\n",
       "      <td>2012-08-04</td>\n",
       "      <td>Not Specified</td>\n",
       "      <td>1500</td>\n",
       "      <td>8061.0</td>\n",
       "      <td>20446.80</td>\n",
       "      <td>Regular Air</td>\n",
       "      <td>Claudia Miner</td>\n",
       "      <td>Richmond</td>\n",
       "      <td>SMEs</td>\n",
       "      <td>2012-08-04</td>\n",
       "    </tr>\n",
       "    <tr>\n",
       "      <th>16</th>\n",
       "      <td>16</td>\n",
       "      <td>161</td>\n",
       "      <td>998</td>\n",
       "      <td>2009-11-25</td>\n",
       "      <td>Not Specified</td>\n",
       "      <td>1600</td>\n",
       "      <td>24826.0</td>\n",
       "      <td>23494.24</td>\n",
       "      <td>Regular Air</td>\n",
       "      <td>Allen Rosenblatt</td>\n",
       "      <td>Richmond</td>\n",
       "      <td>SMEs</td>\n",
       "      <td>2009-11-26</td>\n",
       "    </tr>\n",
       "    <tr>\n",
       "      <th>29</th>\n",
       "      <td>29</td>\n",
       "      <td>330</td>\n",
       "      <td>2275</td>\n",
       "      <td>2012-10-21</td>\n",
       "      <td>Not Specified</td>\n",
       "      <td>4900</td>\n",
       "      <td>27800.0</td>\n",
       "      <td>26247.50</td>\n",
       "      <td>Regular Air</td>\n",
       "      <td>Grant Carroll</td>\n",
       "      <td>Richmond</td>\n",
       "      <td>SMEs</td>\n",
       "      <td>2012-10-22</td>\n",
       "    </tr>\n",
       "    <tr>\n",
       "      <th>40</th>\n",
       "      <td>40</td>\n",
       "      <td>471</td>\n",
       "      <td>3232</td>\n",
       "      <td>2012-10-08</td>\n",
       "      <td>Critical</td>\n",
       "      <td>500</td>\n",
       "      <td>4266.0</td>\n",
       "      <td>90.36</td>\n",
       "      <td>Regular Air</td>\n",
       "      <td>Brad Eason</td>\n",
       "      <td>Richmond</td>\n",
       "      <td>SMEs</td>\n",
       "      <td>2012-10-10</td>\n",
       "    </tr>\n",
       "  </tbody>\n",
       "</table>\n",
       "</div>"
      ],
      "text/plain": [
       "    SKU  Row ID  Order ID Order Date       Priority  Quantity    Sales  \\\n",
       "0     1       1         3 2010-10-13            Low       600  26154.0   \n",
       "14   14     149       933 2012-08-04  Not Specified      1500   8061.0   \n",
       "16   16     161       998 2009-11-25  Not Specified      1600  24826.0   \n",
       "29   29     330      2275 2012-10-21  Not Specified      4900  27800.0   \n",
       "40   40     471      3232 2012-10-08       Critical       500   4266.0   \n",
       "\n",
       "        COGS Shipping Type       Customer Name    Branch Customer Segment  \\\n",
       "0   21962.64   Regular Air  Muhammed MacIntyre  Richmond             SMEs   \n",
       "14  20446.80   Regular Air       Claudia Miner  Richmond             SMEs   \n",
       "16  23494.24   Regular Air    Allen Rosenblatt  Richmond             SMEs   \n",
       "29  26247.50   Regular Air       Grant Carroll  Richmond             SMEs   \n",
       "40     90.36   Regular Air          Brad Eason  Richmond             SMEs   \n",
       "\n",
       "   Shipping Date  \n",
       "0     2010-10-20  \n",
       "14    2012-08-04  \n",
       "16    2009-11-26  \n",
       "29    2012-10-22  \n",
       "40    2012-10-10  "
      ]
     },
     "execution_count": 139,
     "metadata": {},
     "output_type": "execute_result"
    }
   ],
   "source": [
    "dm_records = pd.concat([dm_SMEs, dm_Consumer,dm_Corporate, dm_Home_Office], axis=0)\n",
    "dm_records.head()"
   ]
  },
  {
   "cell_type": "code",
   "execution_count": 140,
   "id": "090bc3f6",
   "metadata": {},
   "outputs": [],
   "source": [
    "dm_records = dm_records.sort_values(by='SKU').reset_index(drop=True)"
   ]
  },
  {
   "cell_type": "code",
   "execution_count": 141,
   "id": "943dbb7e",
   "metadata": {},
   "outputs": [
    {
     "data": {
      "text/html": [
       "<div>\n",
       "<style scoped>\n",
       "    .dataframe tbody tr th:only-of-type {\n",
       "        vertical-align: middle;\n",
       "    }\n",
       "\n",
       "    .dataframe tbody tr th {\n",
       "        vertical-align: top;\n",
       "    }\n",
       "\n",
       "    .dataframe thead th {\n",
       "        text-align: right;\n",
       "    }\n",
       "</style>\n",
       "<table border=\"1\" class=\"dataframe\">\n",
       "  <thead>\n",
       "    <tr style=\"text-align: right;\">\n",
       "      <th></th>\n",
       "      <th>SKU</th>\n",
       "      <th>Row ID</th>\n",
       "      <th>Order ID</th>\n",
       "      <th>Order Date</th>\n",
       "      <th>Priority</th>\n",
       "      <th>Quantity</th>\n",
       "      <th>Sales</th>\n",
       "      <th>COGS</th>\n",
       "      <th>Shipping Type</th>\n",
       "      <th>Customer Name</th>\n",
       "      <th>Branch</th>\n",
       "      <th>Customer Segment</th>\n",
       "      <th>Shipping Date</th>\n",
       "    </tr>\n",
       "  </thead>\n",
       "  <tbody>\n",
       "    <tr>\n",
       "      <th>0</th>\n",
       "      <td>1</td>\n",
       "      <td>1</td>\n",
       "      <td>3</td>\n",
       "      <td>2010-10-13</td>\n",
       "      <td>Low</td>\n",
       "      <td>600</td>\n",
       "      <td>26154.0</td>\n",
       "      <td>21962.64</td>\n",
       "      <td>Regular Air</td>\n",
       "      <td>Muhammed MacIntyre</td>\n",
       "      <td>Richmond</td>\n",
       "      <td>SMEs</td>\n",
       "      <td>2010-10-20</td>\n",
       "    </tr>\n",
       "    <tr>\n",
       "      <th>1</th>\n",
       "      <td>1</td>\n",
       "      <td>92</td>\n",
       "      <td>549</td>\n",
       "      <td>2012-07-12</td>\n",
       "      <td>Critical</td>\n",
       "      <td>3000</td>\n",
       "      <td>115088.0</td>\n",
       "      <td>115711.70</td>\n",
       "      <td>Express Air</td>\n",
       "      <td>Ken Brennan</td>\n",
       "      <td>Scranton</td>\n",
       "      <td>Consumer</td>\n",
       "      <td>2012-07-12</td>\n",
       "    </tr>\n",
       "    <tr>\n",
       "      <th>2</th>\n",
       "      <td>1</td>\n",
       "      <td>1904</td>\n",
       "      <td>13633</td>\n",
       "      <td>2012-04-03</td>\n",
       "      <td>Not Specified</td>\n",
       "      <td>3900</td>\n",
       "      <td>153817.0</td>\n",
       "      <td>146818.40</td>\n",
       "      <td>Regular Air</td>\n",
       "      <td>Alan Hwang</td>\n",
       "      <td>Scranton</td>\n",
       "      <td>Corporate</td>\n",
       "      <td>2012-04-04</td>\n",
       "    </tr>\n",
       "    <tr>\n",
       "      <th>3</th>\n",
       "      <td>2</td>\n",
       "      <td>3001</td>\n",
       "      <td>21634</td>\n",
       "      <td>2012-10-28</td>\n",
       "      <td>Not Specified</td>\n",
       "      <td>800</td>\n",
       "      <td>161173.0</td>\n",
       "      <td>160761.76</td>\n",
       "      <td>Ground</td>\n",
       "      <td>Lindsay Shagiari</td>\n",
       "      <td>Scranton</td>\n",
       "      <td>Home Office</td>\n",
       "      <td>2012-10-29</td>\n",
       "    </tr>\n",
       "    <tr>\n",
       "      <th>4</th>\n",
       "      <td>2</td>\n",
       "      <td>2635</td>\n",
       "      <td>19074</td>\n",
       "      <td>2012-06-25</td>\n",
       "      <td>Critical</td>\n",
       "      <td>1700</td>\n",
       "      <td>381659.0</td>\n",
       "      <td>381247.52</td>\n",
       "      <td>Ground</td>\n",
       "      <td>Sonia Sunley</td>\n",
       "      <td>Stamford</td>\n",
       "      <td>Corporate</td>\n",
       "      <td>2012-06-27</td>\n",
       "    </tr>\n",
       "  </tbody>\n",
       "</table>\n",
       "</div>"
      ],
      "text/plain": [
       "   SKU  Row ID  Order ID Order Date       Priority  Quantity     Sales  \\\n",
       "0    1       1         3 2010-10-13            Low       600   26154.0   \n",
       "1    1      92       549 2012-07-12       Critical      3000  115088.0   \n",
       "2    1    1904     13633 2012-04-03  Not Specified      3900  153817.0   \n",
       "3    2    3001     21634 2012-10-28  Not Specified       800  161173.0   \n",
       "4    2    2635     19074 2012-06-25       Critical      1700  381659.0   \n",
       "\n",
       "        COGS Shipping Type       Customer Name    Branch Customer Segment  \\\n",
       "0   21962.64   Regular Air  Muhammed MacIntyre  Richmond             SMEs   \n",
       "1  115711.70   Express Air         Ken Brennan  Scranton         Consumer   \n",
       "2  146818.40   Regular Air          Alan Hwang  Scranton        Corporate   \n",
       "3  160761.76        Ground    Lindsay Shagiari  Scranton      Home Office   \n",
       "4  381247.52        Ground        Sonia Sunley  Stamford        Corporate   \n",
       "\n",
       "  Shipping Date  \n",
       "0    2010-10-20  \n",
       "1    2012-07-12  \n",
       "2    2012-04-04  \n",
       "3    2012-10-29  \n",
       "4    2012-06-27  "
      ]
     },
     "execution_count": 141,
     "metadata": {},
     "output_type": "execute_result"
    }
   ],
   "source": [
    "dm_records.head()"
   ]
  },
  {
   "cell_type": "markdown",
   "id": "d08d3fc9",
   "metadata": {},
   "source": [
    "### 5. Calculating Profit Column"
   ]
  },
  {
   "cell_type": "code",
   "execution_count": 142,
   "id": "fe1a11d9",
   "metadata": {},
   "outputs": [
    {
     "data": {
      "text/html": [
       "<div>\n",
       "<style scoped>\n",
       "    .dataframe tbody tr th:only-of-type {\n",
       "        vertical-align: middle;\n",
       "    }\n",
       "\n",
       "    .dataframe tbody tr th {\n",
       "        vertical-align: top;\n",
       "    }\n",
       "\n",
       "    .dataframe thead th {\n",
       "        text-align: right;\n",
       "    }\n",
       "</style>\n",
       "<table border=\"1\" class=\"dataframe\">\n",
       "  <thead>\n",
       "    <tr style=\"text-align: right;\">\n",
       "      <th></th>\n",
       "      <th>SKU</th>\n",
       "      <th>Row ID</th>\n",
       "      <th>Order ID</th>\n",
       "      <th>Order Date</th>\n",
       "      <th>Priority</th>\n",
       "      <th>Quantity</th>\n",
       "      <th>Sales</th>\n",
       "      <th>COGS</th>\n",
       "      <th>Shipping Type</th>\n",
       "      <th>Customer Name</th>\n",
       "      <th>Branch</th>\n",
       "      <th>Customer Segment</th>\n",
       "      <th>Shipping Date</th>\n",
       "      <th>Profit</th>\n",
       "    </tr>\n",
       "  </thead>\n",
       "  <tbody>\n",
       "    <tr>\n",
       "      <th>0</th>\n",
       "      <td>1</td>\n",
       "      <td>1</td>\n",
       "      <td>3</td>\n",
       "      <td>2010-10-13</td>\n",
       "      <td>Low</td>\n",
       "      <td>600</td>\n",
       "      <td>26154.0</td>\n",
       "      <td>21962.64</td>\n",
       "      <td>Regular Air</td>\n",
       "      <td>Muhammed MacIntyre</td>\n",
       "      <td>Richmond</td>\n",
       "      <td>SMEs</td>\n",
       "      <td>2010-10-20</td>\n",
       "      <td>4191.36</td>\n",
       "    </tr>\n",
       "    <tr>\n",
       "      <th>1</th>\n",
       "      <td>1</td>\n",
       "      <td>92</td>\n",
       "      <td>549</td>\n",
       "      <td>2012-07-12</td>\n",
       "      <td>Critical</td>\n",
       "      <td>3000</td>\n",
       "      <td>115088.0</td>\n",
       "      <td>115711.70</td>\n",
       "      <td>Express Air</td>\n",
       "      <td>Ken Brennan</td>\n",
       "      <td>Scranton</td>\n",
       "      <td>Consumer</td>\n",
       "      <td>2012-07-12</td>\n",
       "      <td>-623.70</td>\n",
       "    </tr>\n",
       "    <tr>\n",
       "      <th>2</th>\n",
       "      <td>1</td>\n",
       "      <td>1904</td>\n",
       "      <td>13633</td>\n",
       "      <td>2012-04-03</td>\n",
       "      <td>Not Specified</td>\n",
       "      <td>3900</td>\n",
       "      <td>153817.0</td>\n",
       "      <td>146818.40</td>\n",
       "      <td>Regular Air</td>\n",
       "      <td>Alan Hwang</td>\n",
       "      <td>Scranton</td>\n",
       "      <td>Corporate</td>\n",
       "      <td>2012-04-04</td>\n",
       "      <td>6998.60</td>\n",
       "    </tr>\n",
       "    <tr>\n",
       "      <th>3</th>\n",
       "      <td>2</td>\n",
       "      <td>3001</td>\n",
       "      <td>21634</td>\n",
       "      <td>2012-10-28</td>\n",
       "      <td>Not Specified</td>\n",
       "      <td>800</td>\n",
       "      <td>161173.0</td>\n",
       "      <td>160761.76</td>\n",
       "      <td>Ground</td>\n",
       "      <td>Lindsay Shagiari</td>\n",
       "      <td>Scranton</td>\n",
       "      <td>Home Office</td>\n",
       "      <td>2012-10-29</td>\n",
       "      <td>411.24</td>\n",
       "    </tr>\n",
       "    <tr>\n",
       "      <th>4</th>\n",
       "      <td>2</td>\n",
       "      <td>2635</td>\n",
       "      <td>19074</td>\n",
       "      <td>2012-06-25</td>\n",
       "      <td>Critical</td>\n",
       "      <td>1700</td>\n",
       "      <td>381659.0</td>\n",
       "      <td>381247.52</td>\n",
       "      <td>Ground</td>\n",
       "      <td>Sonia Sunley</td>\n",
       "      <td>Stamford</td>\n",
       "      <td>Corporate</td>\n",
       "      <td>2012-06-27</td>\n",
       "      <td>411.48</td>\n",
       "    </tr>\n",
       "  </tbody>\n",
       "</table>\n",
       "</div>"
      ],
      "text/plain": [
       "   SKU  Row ID  Order ID Order Date       Priority  Quantity     Sales  \\\n",
       "0    1       1         3 2010-10-13            Low       600   26154.0   \n",
       "1    1      92       549 2012-07-12       Critical      3000  115088.0   \n",
       "2    1    1904     13633 2012-04-03  Not Specified      3900  153817.0   \n",
       "3    2    3001     21634 2012-10-28  Not Specified       800  161173.0   \n",
       "4    2    2635     19074 2012-06-25       Critical      1700  381659.0   \n",
       "\n",
       "        COGS Shipping Type       Customer Name    Branch Customer Segment  \\\n",
       "0   21962.64   Regular Air  Muhammed MacIntyre  Richmond             SMEs   \n",
       "1  115711.70   Express Air         Ken Brennan  Scranton         Consumer   \n",
       "2  146818.40   Regular Air          Alan Hwang  Scranton        Corporate   \n",
       "3  160761.76        Ground    Lindsay Shagiari  Scranton      Home Office   \n",
       "4  381247.52        Ground        Sonia Sunley  Stamford        Corporate   \n",
       "\n",
       "  Shipping Date   Profit  \n",
       "0    2010-10-20  4191.36  \n",
       "1    2012-07-12  -623.70  \n",
       "2    2012-04-04  6998.60  \n",
       "3    2012-10-29   411.24  \n",
       "4    2012-06-27   411.48  "
      ]
     },
     "execution_count": 142,
     "metadata": {},
     "output_type": "execute_result"
    }
   ],
   "source": [
    "def profit(Sales, COGS):\n",
    "    return Sales - COGS\n",
    "\n",
    "dm_records['Profit'] = dm_records.apply(lambda row: profit(row['Sales'], row['COGS']), axis=1)\n",
    "\n",
    "dm_records.head()"
   ]
  },
  {
   "cell_type": "code",
   "execution_count": 143,
   "id": "b117faef",
   "metadata": {},
   "outputs": [
    {
     "data": {
      "text/html": [
       "<div>\n",
       "<style scoped>\n",
       "    .dataframe tbody tr th:only-of-type {\n",
       "        vertical-align: middle;\n",
       "    }\n",
       "\n",
       "    .dataframe tbody tr th {\n",
       "        vertical-align: top;\n",
       "    }\n",
       "\n",
       "    .dataframe thead th {\n",
       "        text-align: right;\n",
       "    }\n",
       "</style>\n",
       "<table border=\"1\" class=\"dataframe\">\n",
       "  <thead>\n",
       "    <tr style=\"text-align: right;\">\n",
       "      <th></th>\n",
       "      <th>SKU</th>\n",
       "      <th>Row ID</th>\n",
       "      <th>Order ID</th>\n",
       "      <th>Order Date</th>\n",
       "      <th>Priority</th>\n",
       "      <th>Quantity</th>\n",
       "      <th>Sales</th>\n",
       "      <th>COGS</th>\n",
       "      <th>Profit</th>\n",
       "      <th>Shipping Type</th>\n",
       "      <th>Customer Name</th>\n",
       "      <th>Branch</th>\n",
       "      <th>Customer Segment</th>\n",
       "      <th>Shipping Date</th>\n",
       "    </tr>\n",
       "  </thead>\n",
       "  <tbody>\n",
       "    <tr>\n",
       "      <th>0</th>\n",
       "      <td>1</td>\n",
       "      <td>1</td>\n",
       "      <td>3</td>\n",
       "      <td>2010-10-13</td>\n",
       "      <td>Low</td>\n",
       "      <td>600</td>\n",
       "      <td>26154.0</td>\n",
       "      <td>21962.64</td>\n",
       "      <td>4191.36</td>\n",
       "      <td>Regular Air</td>\n",
       "      <td>Muhammed MacIntyre</td>\n",
       "      <td>Richmond</td>\n",
       "      <td>SMEs</td>\n",
       "      <td>2010-10-20</td>\n",
       "    </tr>\n",
       "    <tr>\n",
       "      <th>1</th>\n",
       "      <td>1</td>\n",
       "      <td>92</td>\n",
       "      <td>549</td>\n",
       "      <td>2012-07-12</td>\n",
       "      <td>Critical</td>\n",
       "      <td>3000</td>\n",
       "      <td>115088.0</td>\n",
       "      <td>115711.70</td>\n",
       "      <td>-623.70</td>\n",
       "      <td>Express Air</td>\n",
       "      <td>Ken Brennan</td>\n",
       "      <td>Scranton</td>\n",
       "      <td>Consumer</td>\n",
       "      <td>2012-07-12</td>\n",
       "    </tr>\n",
       "    <tr>\n",
       "      <th>2</th>\n",
       "      <td>1</td>\n",
       "      <td>1904</td>\n",
       "      <td>13633</td>\n",
       "      <td>2012-04-03</td>\n",
       "      <td>Not Specified</td>\n",
       "      <td>3900</td>\n",
       "      <td>153817.0</td>\n",
       "      <td>146818.40</td>\n",
       "      <td>6998.60</td>\n",
       "      <td>Regular Air</td>\n",
       "      <td>Alan Hwang</td>\n",
       "      <td>Scranton</td>\n",
       "      <td>Corporate</td>\n",
       "      <td>2012-04-04</td>\n",
       "    </tr>\n",
       "    <tr>\n",
       "      <th>3</th>\n",
       "      <td>2</td>\n",
       "      <td>3001</td>\n",
       "      <td>21634</td>\n",
       "      <td>2012-10-28</td>\n",
       "      <td>Not Specified</td>\n",
       "      <td>800</td>\n",
       "      <td>161173.0</td>\n",
       "      <td>160761.76</td>\n",
       "      <td>411.24</td>\n",
       "      <td>Ground</td>\n",
       "      <td>Lindsay Shagiari</td>\n",
       "      <td>Scranton</td>\n",
       "      <td>Home Office</td>\n",
       "      <td>2012-10-29</td>\n",
       "    </tr>\n",
       "    <tr>\n",
       "      <th>4</th>\n",
       "      <td>2</td>\n",
       "      <td>2635</td>\n",
       "      <td>19074</td>\n",
       "      <td>2012-06-25</td>\n",
       "      <td>Critical</td>\n",
       "      <td>1700</td>\n",
       "      <td>381659.0</td>\n",
       "      <td>381247.52</td>\n",
       "      <td>411.48</td>\n",
       "      <td>Ground</td>\n",
       "      <td>Sonia Sunley</td>\n",
       "      <td>Stamford</td>\n",
       "      <td>Corporate</td>\n",
       "      <td>2012-06-27</td>\n",
       "    </tr>\n",
       "  </tbody>\n",
       "</table>\n",
       "</div>"
      ],
      "text/plain": [
       "   SKU  Row ID  Order ID Order Date       Priority  Quantity     Sales  \\\n",
       "0    1       1         3 2010-10-13            Low       600   26154.0   \n",
       "1    1      92       549 2012-07-12       Critical      3000  115088.0   \n",
       "2    1    1904     13633 2012-04-03  Not Specified      3900  153817.0   \n",
       "3    2    3001     21634 2012-10-28  Not Specified       800  161173.0   \n",
       "4    2    2635     19074 2012-06-25       Critical      1700  381659.0   \n",
       "\n",
       "        COGS   Profit Shipping Type       Customer Name    Branch  \\\n",
       "0   21962.64  4191.36   Regular Air  Muhammed MacIntyre  Richmond   \n",
       "1  115711.70  -623.70   Express Air         Ken Brennan  Scranton   \n",
       "2  146818.40  6998.60   Regular Air          Alan Hwang  Scranton   \n",
       "3  160761.76   411.24        Ground    Lindsay Shagiari  Scranton   \n",
       "4  381247.52   411.48        Ground        Sonia Sunley  Stamford   \n",
       "\n",
       "  Customer Segment Shipping Date  \n",
       "0             SMEs    2010-10-20  \n",
       "1         Consumer    2012-07-12  \n",
       "2        Corporate    2012-04-04  \n",
       "3      Home Office    2012-10-29  \n",
       "4        Corporate    2012-06-27  "
      ]
     },
     "execution_count": 143,
     "metadata": {},
     "output_type": "execute_result"
    }
   ],
   "source": [
    "dm_records.insert(dm_records.columns.get_loc(\"COGS\") + 1, 'Profit', dm_records.pop('Profit'))\n",
    "dm_records.head()"
   ]
  },
  {
   "cell_type": "code",
   "execution_count": 144,
   "id": "589aeee5",
   "metadata": {},
   "outputs": [
    {
     "name": "stdout",
     "output_type": "stream",
     "text": [
      "<class 'pandas.core.frame.DataFrame'>\n",
      "RangeIndex: 7946 entries, 0 to 7945\n",
      "Data columns (total 14 columns):\n",
      " #   Column            Non-Null Count  Dtype         \n",
      "---  ------            --------------  -----         \n",
      " 0   SKU               7946 non-null   int64         \n",
      " 1   Row ID            7946 non-null   int64         \n",
      " 2   Order ID          7946 non-null   int64         \n",
      " 3   Order Date        7946 non-null   datetime64[ns]\n",
      " 4    Priority         7946 non-null   object        \n",
      " 5   Quantity          7946 non-null   int64         \n",
      " 6   Sales             7946 non-null   float64       \n",
      " 7   COGS              7946 non-null   float64       \n",
      " 8   Profit            7946 non-null   float64       \n",
      " 9   Shipping Type     7946 non-null   object        \n",
      " 10  Customer Name     7946 non-null   object        \n",
      " 11  Branch            7946 non-null   object        \n",
      " 12  Customer Segment  7946 non-null   object        \n",
      " 13  Shipping Date     7946 non-null   datetime64[ns]\n",
      "dtypes: datetime64[ns](2), float64(3), int64(4), object(5)\n",
      "memory usage: 869.2+ KB\n"
     ]
    }
   ],
   "source": [
    "dm_records.info()"
   ]
  },
  {
   "cell_type": "markdown",
   "id": "e169e889",
   "metadata": {},
   "source": [
    "### 6. Export Processed Dataframe"
   ]
  },
  {
   "cell_type": "code",
   "execution_count": 146,
   "id": "bbb6b7c3",
   "metadata": {},
   "outputs": [],
   "source": [
    "# from pathlib import Path\n",
    "# filepath = Path('../data/processed/FACT sales.xlsx', index=False)  \n",
    "# filepath.parent.mkdir(parents=True, exist_ok=True) \n",
    "# dm_records.to_excel(filepath, index=False)"
   ]
  }
 ],
 "metadata": {
  "kernelspec": {
   "display_name": "Python (m3_env)",
   "language": "python",
   "name": "m3_env"
  },
  "language_info": {
   "codemirror_mode": {
    "name": "ipython",
    "version": 3
   },
   "file_extension": ".py",
   "mimetype": "text/x-python",
   "name": "python",
   "nbconvert_exporter": "python",
   "pygments_lexer": "ipython3",
   "version": "3.10.13"
  }
 },
 "nbformat": 4,
 "nbformat_minor": 5
}
